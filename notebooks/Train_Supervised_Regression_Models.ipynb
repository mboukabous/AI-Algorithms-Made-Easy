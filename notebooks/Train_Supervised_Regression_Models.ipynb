{
  "nbformat": 4,
  "nbformat_minor": 0,
  "metadata": {
    "colab": {
      "provenance": [],
      "collapsed_sections": [
        "nQm5xYpYA_AG",
        "CHBHqduRHyLG",
        "iapakC9TDg5e",
        "jAPF-urD-921",
        "9a-HaJ2ZLx8c",
        "hJOxDBx_BNcu",
        "H8iXK5eaMj-Q",
        "qEp5mc1WBgYf",
        "HwKoW60vMnJ-",
        "zgEYipCmBmFZ",
        "nkwbt8OaMqf6",
        "d9_wEAWQBtBq",
        "NOGAkJNPMrcs",
        "9k550x6sBzr9",
        "7W5wj1fsMsk4",
        "suRkj0wAB9L5",
        "dXHOCsQ4MtlK",
        "DEV46GUDCFGW",
        "msL3RTAOMuoG",
        "PmMk-z0GCKzA",
        "rCQZ07QBCQNe",
        "cp-YOrnvMwuE",
        "--sE8T7yCV9E",
        "_N57zxM7Mxsg",
        "xnJ27I3KCaJ5",
        "3yDPN8HKMyt6",
        "CLALtUgrCfqU",
        "U2g1RuatMzn6",
        "7wDPBaIwCo18",
        "s6dDfWMYM0x0",
        "-PzR3yUZCpV5",
        "7BtPcQ0FM1uj",
        "FeYrwKKkDzRe",
        "k6rS0_QuATZ3",
        "RBc8_xDuTXaV"
      ]
    },
    "kernelspec": {
      "name": "python3",
      "display_name": "Python 3"
    },
    "language_info": {
      "name": "python"
    }
  },
  "cells": [
    {
      "cell_type": "markdown",
      "source": [
        "# Regression Models Tutorial Notebook\n",
        "Welcome to this comprehensive tutorial on regression models using Python and scikit-learn. This notebook is designed to cater to users of different expertise levels:\n",
        "\n",
        "- Beginner Level: Brief explanations of regression algorithms, quick execution using pre-defined scripts, and an interactive GUI (Gradio Interface) for easy model deployment and testing.\n",
        "- Intermediate Level: Customizing algorithm parameters while leveraging existing scripts.\n",
        "- Advanced Level: Full code implementations with detailed explanations, allowing for in-depth modifications."
      ],
      "metadata": {
        "id": "UDCUN4Bp9CKP"
      }
    },
    {
      "cell_type": "markdown",
      "source": [
        "## Table of Contents\n",
        "\n",
        "1. [Introduction](#introduction)\n",
        "2. [Simple Use](#simple-use)\n",
        "   - [Prerequisites](#prerequisites)\n",
        "   - [Gradio Interface](#gradio-interface)\n",
        "   - [Running the Models](#running-models)\n",
        "     - [Linear Regression](#linear-regression)\n",
        "     - [Ridge Regression](#ridge-regression)\n",
        "     - [Lasso Regression](#lasso-regression)\n",
        "     - [ElasticNet Regression](#elasticnet-regression)\n",
        "     - [Decision Tree](#decision-tree)\n",
        "     - [Random Forest (Bagging)](#random-forest)\n",
        "     - [Gradient Boosting (Boosting)](#gradient-boosting)\n",
        "     - [AdaBoost (Boosting)](#adaboost)\n",
        "     - [XGBoost (Boosting)](#xgboost)\n",
        "     - [LightGBM](#lightgbm)\n",
        "     - [CatBoost](#catboost)\n",
        "     - [Support Vector Regressor (SVR)](#support-vector-regressor)\n",
        "     - [K-Nearest Neighbors (KNN) Regressor](#knn-regressor)\n",
        "     - [Extra Trees Regressor](#extra-trees-regressor)\n",
        "     - [Multilayer Perceptron (MLP) Regressor](#mlp-regressor)\n",
        "3. [Code Breakdown](#code-breakdown)\n",
        "   - [Setting Up the Dataset](#setup-dataset)\n",
        "   - [Hyperparameter Tuning and Model Training](#model_training)\n",
        "4. [Conclusion](#conclusion)\n"
      ],
      "metadata": {
        "id": "F42V9r5S9MWJ"
      }
    },
    {
      "cell_type": "markdown",
      "source": [
        "# 1. Introduction\n",
        "<a id=\"introduction\"></a>"
      ],
      "metadata": {
        "id": "cjh4km3T-mGW"
      }
    },
    {
      "cell_type": "markdown",
      "source": [
        "Welcome to this comprehensive tutorial on regression models using Python and scikit-learn. This notebook is designed to guide you through the fundamentals of regression analysis, explore various regression algorithms, and demonstrate how to implement them using both pre-defined scripts and custom code. Whether you're new to machine learning or an experienced practitioner, this tutorial offers valuable insights and practical examples to enhance your understanding and application of regression techniques.\n",
        "\n",
        "## Purpose of the Notebook\n",
        "The primary objectives of this notebook are:\n",
        "* **Understand Regression Analysis**: Learn what regression is and why it's essential in machine learning.\n",
        "* **Explore Various Algorithms**: Dive into different regression algorithms, including linear models, tree-based methods, and ensemble techniques.\n",
        "* **Hands-On Implementation**: Provide practical examples using scripts for quick execution and detailed code for deeper understanding.\n",
        "* **Customization**: Show how to customize models to suit specific needs, adjusting parameters and hyperparameters.\n",
        "* **Interactive Interface**: Integrate a Gradio interface for easy and interactive model deployment.\n",
        "\n",
        "## What is Regression Analysis?\n",
        "Regression analysis is a statistical method used to model the relationship between a dependent variable (target) and one or more independent variables (features). It allows us to understand how the typical value of the dependent variable changes when any one of the independent variables is varied while the others are held fixed.\n",
        "\n",
        "### Importance of Regression in Machine Learning\n",
        "* **Prediction**: Regression models enable us to predict continuous outcomes, which is vital in fields like finance, healthcare, and engineering.\n",
        "* **Insight**: Helps in understanding the strength and type of relationships between variables.\n",
        "* **Optimization**: Used for optimizing processes by identifying influential factors.\n",
        "\n",
        "## Overview of Machine Learning\n",
        "Machine learning is a subset of artificial intelligence that focuses on building systems that learn from data to improve their performance on a specific task.\n",
        "\n",
        "Types of Machine Learning\n",
        "1. **Supervised Learning**: The model learns from labeled data. Regression falls under this category.\n",
        "2. **Unsupervised Learning**: The model identifies patterns in unlabeled data.\n",
        "3. **Reinforcement Learning**: The model learns by interacting with an environment to achieve a goal.\n",
        "\n",
        "### Regression in Supervised Learning\n",
        "In regression, the goal is to predict a continuous target variable. Unlike classification, which predicts discrete labels, regression models output numerical values.\n",
        "\n",
        "## Introduction to scikit-learn\n",
        "[Scikit-learn](https://scikit-learn.org/stable/) is a powerful Python library for machine learning, providing simple and efficient tools for data analysis and modeling.\n",
        "\n",
        "### Key Features of scikit-learn\n",
        "* **Wide Range of Algorithms**: Includes implementations of various regression, classification, clustering, and dimensionality reduction algorithms.\n",
        "* **Easy to Use**: Designed with a consistent and user-friendly API.\n",
        "* **Integration**: Works well with other scientific Python libraries like NumPy and pandas.\n",
        "* **Extensibility**: Allows for the creation of custom models and tools.\n",
        "\n",
        "## Getting the Most Out of This Notebook\n",
        "### Who Is This Notebook For?\n",
        "* **Beginners**: Individuals new to machine learning and regression.\n",
        "* **Intermediate Users**: Those with some experience looking to deepen their understanding and customize models.\n",
        "* **Advanced Users**: Practitioners interested in the underlying code and advanced customization.\n",
        "\n",
        "### How to Use This Notebook\n",
        "* **Simple Use**: Start by exploring the predefined scripts to quickly run and test various regression algorithms.\n",
        "* **Interactive Interface**: Utilize the Gradio interface for an easy and interactive way to input data and get predictions.\n",
        "* **Intermediate Use**: Customize algorithm parameters to see how they affect model performance.\n",
        "* **Advanced Use**: Dive into the full code implementations to understand the inner workings and make significant modifications.\n",
        "\n",
        "## Preparing Your Environment\n",
        "### Prerequisites\n",
        "* **Python 3.7 or Higher**: Ensure you have a compatible version of Python installed.\n",
        "* **Libraries**: Install the required libraries using pip install -r requirements.txt.\n",
        "* **Dataset**: We'll be using the House Prices dataset from Kaggle (you can use whatever dataset you want). Instructions for downloading are provided in the notebook.\n",
        "* **Kaggle API Key**: Required for downloading datasets directly from Kaggle.\n",
        "\n",
        "### Project Structure\n",
        "Your project directory should look like this:\n",
        "\n",
        "<pre>\n",
        "project_root/\n",
        "├── data/\n",
        "│   ├── raw/\n",
        "│   └── datasets/\n",
        "│       └── kaggle_data.py\n",
        "├── interfaces/\n",
        "│   └── gradio/\n",
        "│         └── train_regressor_gradio.py\n",
        "├── models/\n",
        "│   └── supervised/\n",
        "│       └── regression/\n",
        "│           ├── linear_regression.py\n",
        "│           ├── ...\n",
        "│           └── mlp_regressor.py\n",
        "├── scripts/\n",
        "│   └── train_regression_model.py\n",
        "├── utils/\n",
        "│   └── supervised_hyperparameter_tuning.py\n",
        "├── saved_models/\n",
        "├── results/\n",
        "├── requirements.txt\n",
        "└── README.md\n",
        "</pre>\n",
        "\n",
        "## Next Steps\n",
        "In the next section, Simple Use, we'll begin by exploring various regression algorithms and showing how to run them using predefined scripts. This will give you a practical understanding of how these models work and how to apply them to real-world data.\n",
        "\n",
        "Let's get started!"
      ],
      "metadata": {
        "id": "Fl3F7OeSHds1"
      }
    },
    {
      "cell_type": "markdown",
      "source": [
        "# 2. Simple Use (self-contained section)\n",
        "<a id=\"simple-use\"></a>"
      ],
      "metadata": {
        "id": "nQm5xYpYA_AG"
      }
    },
    {
      "cell_type": "markdown",
      "source": [
        "In this section, we'll explore various regression algorithms and demonstrate how to quickly execute them using pre-defined scripts. Each algorithm will be accompanied by a broad explanation to help you understand its fundamentals."
      ],
      "metadata": {
        "id": "Kgvd-VN5Faul"
      }
    },
    {
      "cell_type": "markdown",
      "source": [
        "## 2.1 Prerequisites\n",
        "<a id=\"prerequisites\"></a>"
      ],
      "metadata": {
        "id": "CHBHqduRHyLG"
      }
    },
    {
      "cell_type": "markdown",
      "source": [
        "**Prerequisites**\n",
        "* **Python Environment**: Ensure you have Python 3.7 or higher installed. If you're using Google Colab, most required libraries come pre-installed.\n",
        "* **Clone the GitHub Repository**: Clone the repository to your local machine or cloud environment:\n",
        "```bash\n",
        "git clone https://github.com/mboukabous/AI-Algorithms-Made-Easy.git\n",
        "cd AI-Algorithms-Made-Easy\n",
        "```\n",
        "* **Required Libraries**: Install the necessary libraries by running:\n",
        "```bash\n",
        "pip install -r requirements.txt\n",
        "```"
      ],
      "metadata": {
        "id": "7UiFH0uUH7Vc"
      }
    },
    {
      "cell_type": "code",
      "source": [
        "import os\n",
        "\n",
        "# Clone the GitHub repository\n",
        "!git clone -b \"SCRUM-2-Supervised-Learning\" --single-branch \"https://github.com/mboukabous/AI-Algorithms-Made-Easy.git\"\n",
        "#!git clone https://github.com/mboukabous/AI-Algorithms-Made-Easy.git\n",
        "\n",
        "# Change the working directory to the cloned repository\n",
        "os.chdir(\"AI-Algorithms-Made-Easy\")\n",
        "\n",
        "# Verify the current working directory\n",
        "print(f\"Current working directory: {os.getcwd()}\")\n",
        "\n",
        "# Install the required libraries with reduced output for cleaner logs (with -q)\n",
        "!pip install -q -r \"requirements.txt\"\n",
        "print(\"✅ Installation completed. All required libraries are installed.\") # Print a confirmation message"
      ],
      "metadata": {
        "id": "kTEPNB4IH9Jq",
        "colab": {
          "base_uri": "https://localhost:8080/"
        },
        "outputId": "0901a49c-f27a-4020-98d2-b6162e00a1dd"
      },
      "execution_count": null,
      "outputs": [
        {
          "output_type": "stream",
          "name": "stdout",
          "text": [
            "Cloning into 'AI-Algorithms-Made-Easy'...\n",
            "remote: Enumerating objects: 358, done.\u001b[K\n",
            "remote: Counting objects: 100% (119/119), done.\u001b[K\n",
            "remote: Compressing objects: 100% (116/116), done.\u001b[K\n",
            "remote: Total 358 (delta 66), reused 3 (delta 3), pack-reused 239 (from 1)\u001b[K\n",
            "Receiving objects: 100% (358/358), 1.33 MiB | 3.51 MiB/s, done.\n",
            "Resolving deltas: 100% (167/167), done.\n",
            "Current working directory: /content/AI-Algorithms-Made-Easy\n",
            "✅ Installation completed. All required libraries are installed.\n"
          ]
        }
      ]
    },
    {
      "cell_type": "markdown",
      "source": [
        "**Downloading the Dataset (if needed)**\n",
        "\n",
        "We'll use the House Prices dataset from Kaggle. Ensure you have your Kaggle API credentials (`kaggle.json`) ready.\n",
        "\n",
        "We'll download it using the provided script. Alternatively, you can skip the download step and directly specify the path to your dataset if you have one.\n",
        "\n",
        "**Script**: `data/datasets/kaggle_data.py`\n",
        "\n",
        "**Notes**:\n",
        "* If you don’t want to use Kaggle API, you can directly assign the variable `competition_path` to the path of your own dataset.\n",
        "* For example, replace `competition_path` with `/path/to/your/local/dataset` if you already have the dataset.\n",
        "* We’ll be using the House Prices Advanced Regression Techniques dataset as an example in this notebook."
      ],
      "metadata": {
        "id": "5c7DqG35IA-T"
      }
    },
    {
      "cell_type": "code",
      "source": [
        "# Import the get_kaggle_data function\n",
        "from data.datasets.kaggle_data import get_kaggle_data\n",
        "\n",
        "# Define the path to your kaggle.json file\n",
        "JSON_KAGGLE_PATH = \"/content/kaggle.json\"  # Update this path\n",
        "\n",
        "# Define the dataset name\n",
        "DATA_NAME = \"house-prices-advanced-regression-techniques\"\n",
        "\n",
        "# Download and get the dataset path\n",
        "competition_path = get_kaggle_data(JSON_KAGGLE_PATH, DATA_NAME, is_competition=True)\n",
        "print(f\"Dataset is available at: {competition_path}\")"
      ],
      "metadata": {
        "id": "dvJjTg9rIayG",
        "colab": {
          "base_uri": "https://localhost:8080/"
        },
        "outputId": "8d909052-79c0-4bda-f5df-2b8656e81ecf"
      },
      "execution_count": null,
      "outputs": [
        {
          "output_type": "stream",
          "name": "stdout",
          "text": [
            "Setting up Kaggle API credentials for Colab environment.\n",
            "Downloading competition data: house-prices-advanced-regression-techniques\n",
            "Extracted: house-prices-advanced-regression-techniques.zip\n",
            "Dataset is available at: data/raw/house-prices-advanced-regression-techniques\n"
          ]
        }
      ]
    },
    {
      "cell_type": "markdown",
      "source": [
        "## 2.2 Gradio Interface\n",
        "<a id=\"gradio-interface\"></a>"
      ],
      "metadata": {
        "id": "iapakC9TDg5e"
      }
    },
    {
      "cell_type": "markdown",
      "source": [
        "Gradio provides an easy way to create web-based interfaces for your machine learning models, allowing you to interactively train your models without needing to write additional front-end code.\n",
        "\n",
        "In this section, we'll use An interface that will allow us to upload data and train a regression model interactively - https://huggingface.co/spaces/mboukabous/train_regression\n",
        "\n",
        "![Opera Instantané_2024-12-04_190419_9f87a0199b126f097d.gradio.live.png](data:image/png;base64,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)"
      ],
      "metadata": {
        "id": "Nszdm0crF666"
      }
    },
    {
      "cell_type": "code",
      "source": [
        "!python interfaces/gradio/train_regressor_gradio.py"
      ],
      "metadata": {
        "id": "81985b_hIQIH"
      },
      "execution_count": null,
      "outputs": []
    },
    {
      "cell_type": "markdown",
      "source": [
        "## 2.3 Running the Models\n",
        "<a id=\"running-models\"></a>"
      ],
      "metadata": {
        "id": "jAPF-urD-921"
      }
    },
    {
      "cell_type": "markdown",
      "source": [
        "We'll use the script `scripts/train_regression_model.py` to train and evaluate each model.\n",
        "\n",
        "**Full Command-Line Arguments**:\n",
        "```bash\n",
        "python scripts/train_regression_model.py \\\n",
        "  --model_module '<model_name>' \\\n",
        "  --data_path 'data/raw/<dataset_name>/<train_data_name.csv>' \\\n",
        "  --target_variable '<y_variable_name>' \\\n",
        "  --drop_columns '<columns,to,drop>' \\\n",
        "  --test_size 0.2 \\\n",
        "  --random_state 42 \\\n",
        "  --log_transform \\\n",
        "  --cv_folds 5 \\\n",
        "  --scoring_metric '<metric>' \\\n",
        "  --model_path 'saved_models/<ModelName>' \\\n",
        "  --results_path 'results/<ModelName>' \\\n",
        "  --visualize\n",
        "```\n",
        "\n",
        "**Required Command-Line Arguments:**\n",
        "- `--model_module`: Name of the model module to import (e.g., `linear_regression`).\n",
        "- `--data_path`: Path to the dataset directory, including the data file name.\n",
        "- `--target_variable`: Name of the target variable in your dataset.\n",
        "\n",
        "**Optional Command-Line Arguments:**\n",
        "- `--test_size`: Proportion of the dataset to include in the test split (default: `0.2`).\n",
        "- `--random_state`: Random seed for reproducibility (default: `42`).\n",
        "- `--log_transform`: Apply log transformation to the target variable (regression only).\n",
        "- `--cv_folds`: Number of cross-validation folds (default: `5`).\n",
        "- `--scoring_metric`: Scoring metric for model evaluation (e.g., `neg_root_mean_squared_error`, `accuracy`).\n",
        "- `--model_path`: Path to save the trained model (e.g., `saved_models/LinearRegression`).\n",
        "- `--results_path`: Path to save results and metrics (e.g., `results/LinearRegression`).\n",
        "- `--visualize`: Generate and save visualizations (e.g., actual vs. predicted plots for regression).\n",
        "- `--drop_columns`: Comma-separated column names to drop from the dataset (optional).\n",
        "\n",
        "Now, let's run each model with the full command-line example and provide a broad explanation of each algorithm."
      ],
      "metadata": {
        "id": "BBtPsy42HHQd"
      }
    },
    {
      "cell_type": "markdown",
      "source": [
        "### Linear Regression\n",
        "<a id=\"linear-regression\"></a>"
      ],
      "metadata": {
        "id": "DHL3jYf9BIAG"
      }
    },
    {
      "cell_type": "markdown",
      "source": [
        "**Description**:\n",
        "\n",
        "Linear Regression models the relationship between a dependent variable and one or more independent variables using a straight line. It assumes a linear relationship between the input variables (features) and the single output variable (target). It's one of the simplest and most interpretable models.\n",
        "\n",
        "**Key Characteristics**:\n",
        "\n",
        "* **Simple and Interpretable**: Easy to understand and interpret the coefficients.\n",
        "* **Assumptions**: Assumes linearity, normal distribution of errors, and homoscedasticity (constant variance of errors)."
      ],
      "metadata": {
        "id": "w2OfcHm_I6mm"
      }
    },
    {
      "cell_type": "markdown",
      "source": [
        "#### Define the model (optional)"
      ],
      "metadata": {
        "id": "9a-HaJ2ZLx8c"
      }
    },
    {
      "cell_type": "code",
      "source": [
        "%%writefile models/supervised/regression/linear_regression.py\n",
        "\n",
        "\"\"\"\n",
        "This module defines the setup for performing Linear Regression with hyperparameter tuning.\n",
        "\n",
        "Features:\n",
        "- Sets up a `LinearRegression` estimator from scikit-learn.\n",
        "- Defines a hyperparameter grid for preprocessing and model-specific parameters.\n",
        "- Specifies an optional default scoring metric for evaluating the model.\n",
        "\n",
        "Special Considerations:\n",
        "- Linear Regression doesn't typically require special handling.\n",
        "- Applying a log transformation to the target variable (`log_transform`) can be beneficial if it's skewed.\n",
        "\"\"\"\n",
        "\n",
        "from sklearn.linear_model import LinearRegression\n",
        "\n",
        "# Define the estimator\n",
        "estimator = LinearRegression()\n",
        "\n",
        "# Define the hyperparameter grid\n",
        "param_grid = {\n",
        "    'model__fit_intercept': [True, False],\n",
        "    'preprocessor__num__imputer__strategy': ['mean', 'median'],\n",
        "    'preprocessor__num__scaler__with_mean': [True, False],\n",
        "    'preprocessor__num__scaler__with_std': [True, False],\n",
        "}\n",
        "\n",
        "# Optional: Define the default scoring metric\n",
        "default_scoring = 'neg_root_mean_squared_error'"
      ],
      "metadata": {
        "id": "fJoDkIg-MAEP"
      },
      "execution_count": null,
      "outputs": []
    },
    {
      "cell_type": "markdown",
      "source": [
        "#### Execute the model"
      ],
      "metadata": {
        "id": "JEm0ewxnL2EI"
      }
    },
    {
      "cell_type": "code",
      "source": [
        "# Linear Regression Command-Line (only necessary arguments)\n",
        "!python scripts/train_regression_model.py \\\n",
        "  --model_module 'linear_regression' \\\n",
        "  --data_path 'data/raw/house-prices-advanced-regression-techniques/train.csv' \\\n",
        "  --target_variable 'SalePrice' \\\n",
        "  --drop_columns 'Id' \\\n",
        "  --log_transform \\\n",
        "  --visualize"
      ],
      "metadata": {
        "colab": {
          "base_uri": "https://localhost:8080/"
        },
        "id": "iTF1pi-e6szm",
        "outputId": "9ec8f433-6f0c-439a-fe5c-06348563c7c7"
      },
      "execution_count": null,
      "outputs": [
        {
          "output_type": "stream",
          "name": "stdout",
          "text": [
            "Figure(600x400)\n",
            "Figure(600x400)\n",
            "Best Hyperparameters for LinearRegression:\n",
            "model__fit_intercept: True\n",
            "preprocessor__num__imputer__strategy: mean\n",
            "preprocessor__num__scaler__with_mean: False\n",
            "preprocessor__num__scaler__with_std: False\n",
            "Trained model saved to saved_models/LinearRegression/best_model.pkl\n",
            "\n",
            "LinearRegression Regression Metrics on Test Set:\n",
            "- RMSE: 22902.8785\n",
            "- R² Score: 0.9316\n",
            "- MAE: 15066.3159\n",
            "- MSE: 524541845.8190\n",
            "- Training time: 17.1165 seconds\n",
            "\n",
            "Metrics saved to results/LinearRegression/metrics.csv\n",
            "Figure(800x600)\n",
            "Visualization saved to results/LinearRegression/actual_vs_predicted.png\n"
          ]
        }
      ]
    },
    {
      "cell_type": "markdown",
      "source": [
        "### Ridge Regression\n",
        "<a id=\"ridge-regression\"></a>"
      ],
      "metadata": {
        "id": "hJOxDBx_BNcu"
      }
    },
    {
      "cell_type": "markdown",
      "source": [
        "**Description**:\n",
        "\n",
        "Ridge Regression is a type of linear regression that includes L2 regularization. It adds a penalty term to the loss function proportional to the square of the magnitude of coefficients. This helps to prevent overfitting by shrinking the coefficients and reducing model complexity.\n",
        "\n",
        "**Key Characteristics**:\n",
        "\n",
        "* **Regularization**: Penalizes large coefficients to prevent overfitting.\n",
        "* **Multicollinearity**: Useful when predictors are highly correlated."
      ],
      "metadata": {
        "id": "q08cHochI-Vc"
      }
    },
    {
      "cell_type": "markdown",
      "source": [
        "#### Define the model (optional)"
      ],
      "metadata": {
        "id": "H8iXK5eaMj-Q"
      }
    },
    {
      "cell_type": "code",
      "source": [
        "%%writefile models/supervised/regression/ridge_regression.py\n",
        "\n",
        "\"\"\"\n",
        "This module sets up a Ridge Regression model with hyperparameter tuning.\n",
        "\n",
        "Features:\n",
        "- Uses `Ridge` estimator from scikit-learn.\n",
        "- Defines a hyperparameter grid for preprocessing and model-specific parameters.\n",
        "- Addresses potential convergence warnings by increasing `max_iter`.\n",
        "- Considers solvers compatible with dense data after modifying `OneHotEncoder`.\n",
        "\n",
        "Special Considerations:\n",
        "- Ridge Regression may produce convergence warnings if `max_iter` is insufficient.\n",
        "- Applying a log transformation (`log_transform`) to the target variable can be beneficial if it's skewed.\n",
        "- Ensure `OneHotEncoder` outputs dense arrays to avoid solver compatibility issues.\n",
        "\"\"\"\n",
        "\n",
        "from sklearn.linear_model import Ridge\n",
        "\n",
        "# Define the estimator\n",
        "estimator = Ridge()\n",
        "\n",
        "# Define the hyperparameter grid\n",
        "param_grid = {\n",
        "    'model__alpha': [0.1, 1.0, 10.0],\n",
        "    'model__solver': ['auto', 'svd', 'cholesky'],\n",
        "    'model__max_iter': [1000, 5000],\n",
        "    'preprocessor__num__imputer__strategy': ['mean', 'median'],\n",
        "    'preprocessor__num__scaler__with_mean': [True, False],\n",
        "    'preprocessor__num__scaler__with_std': [True, False],\n",
        "}\n",
        "\n",
        "# Optional: Define the default scoring metric\n",
        "default_scoring = 'neg_root_mean_squared_error'"
      ],
      "metadata": {
        "id": "gfD_z1LzM7cS"
      },
      "execution_count": null,
      "outputs": []
    },
    {
      "cell_type": "markdown",
      "source": [
        "#### Execute the model"
      ],
      "metadata": {
        "id": "bCAK6BoXM7pn"
      }
    },
    {
      "cell_type": "code",
      "source": [
        "# Ridge Regression Command-Line (only necessary arguments)\n",
        "!python scripts/train_regression_model.py \\\n",
        "  --model_module 'ridge_regression' \\\n",
        "  --data_path 'data/raw/house-prices-advanced-regression-techniques/train.csv' \\\n",
        "  --target_variable 'SalePrice' \\\n",
        "  --drop_columns 'Id' \\\n",
        "  --log_transform \\\n",
        "  --visualize"
      ],
      "metadata": {
        "colab": {
          "base_uri": "https://localhost:8080/"
        },
        "id": "flG4u0uo6tL7",
        "outputId": "f74c0795-0747-4524-96b0-02db5cd942b3"
      },
      "execution_count": null,
      "outputs": [
        {
          "output_type": "stream",
          "name": "stdout",
          "text": [
            "Figure(600x400)\n",
            "Figure(600x400)\n",
            "/usr/local/lib/python3.10/dist-packages/numpy/ma/core.py:2820: RuntimeWarning: invalid value encountered in cast\n",
            "  _data = np.array(data, dtype=dtype, copy=copy,\n",
            "Best Hyperparameters for Ridge:\n",
            "model__alpha: 10.0\n",
            "model__max_iter: 1000\n",
            "model__solver: auto\n",
            "preprocessor__num__imputer__strategy: mean\n",
            "preprocessor__num__scaler__with_mean: False\n",
            "preprocessor__num__scaler__with_std: True\n",
            "Trained model saved to saved_models/Ridge/best_model.pkl\n",
            "\n",
            "Ridge Regression Metrics on Test Set:\n",
            "- RMSE: 25110.9913\n",
            "- R² Score: 0.9178\n",
            "- MAE: 16433.4079\n",
            "- MSE: 630561884.0367\n",
            "- Training time: 64.6953 seconds\n",
            "\n",
            "Metrics saved to results/Ridge/metrics.csv\n",
            "Figure(800x600)\n",
            "Visualization saved to results/Ridge/actual_vs_predicted.png\n"
          ]
        }
      ]
    },
    {
      "cell_type": "markdown",
      "source": [
        "### Lasso Regression\n",
        "<a id=\"lasso-regression\"></a>"
      ],
      "metadata": {
        "id": "qEp5mc1WBgYf"
      }
    },
    {
      "cell_type": "markdown",
      "source": [
        "**Description**:\n",
        "\n",
        "Lasso Regression incorporates L1 regularization, adding a penalty equal to the absolute value of the magnitude of coefficients. This can shrink some coefficients to zero, effectively performing feature selection by eliminating less important features.\n",
        "\n",
        "**Key Characteristics**:\n",
        "\n",
        "* **Feature Selection**: Can eliminate irrelevant features by setting their coefficients to zero.\n",
        "* **Sparsity**: Produces sparse models useful for high-dimensional data."
      ],
      "metadata": {
        "id": "HS3WneUjJFbH"
      }
    },
    {
      "cell_type": "markdown",
      "source": [
        "#### Define the model (optional)"
      ],
      "metadata": {
        "id": "HwKoW60vMnJ-"
      }
    },
    {
      "cell_type": "code",
      "source": [
        "%%writefile models/supervised/regression/lasso_regression.py\n",
        "\n",
        "\"\"\"\n",
        "This module sets up a Lasso Regression model with hyperparameter tuning.\n",
        "\n",
        "Features:\n",
        "- Uses `Lasso` estimator from scikit-learn.\n",
        "- Defines a hyperparameter grid for preprocessing and model-specific parameters.\n",
        "- Increases `max_iter` to address convergence warnings.\n",
        "\n",
        "Special Considerations:\n",
        "- Lasso Regression may produce convergence warnings if `max_iter` is insufficient.\n",
        "- Applying a log transformation (`log_transform`) to the target variable can be beneficial if it's skewed.\n",
        "- Ensure `OneHotEncoder` outputs dense arrays to avoid compatibility issues.\n",
        "\"\"\"\n",
        "\n",
        "from sklearn.linear_model import Lasso\n",
        "\n",
        "# Define the estimator\n",
        "estimator = Lasso()\n",
        "\n",
        "# Define the hyperparameter grid\n",
        "param_grid = {\n",
        "    'model__alpha': [0.01, 0.1, 1.0, 10.0],  # Regularization strength\n",
        "    'model__max_iter': [5000],  # Single value to ensure convergence\n",
        "    'model__fit_intercept': [True],  # Assume the intercept is important\n",
        "    'model__selection': ['cyclic'],  # Focus on the default cyclic selection\n",
        "    'preprocessor__num__imputer__strategy': ['mean'],  # Single imputation strategy\n",
        "    'preprocessor__num__scaler__with_mean': [True],  # StandardScaler\n",
        "    'preprocessor__num__scaler__with_std': [True],  # StandardScaler\n",
        "}\n",
        "\n",
        "# Optional: Define the default scoring metric\n",
        "default_scoring = 'neg_root_mean_squared_error'"
      ],
      "metadata": {
        "id": "yviEI_sgM94V"
      },
      "execution_count": null,
      "outputs": []
    },
    {
      "cell_type": "markdown",
      "source": [
        "#### Execute the model"
      ],
      "metadata": {
        "id": "fdcnN3cwM-At"
      }
    },
    {
      "cell_type": "code",
      "source": [
        "# Lasso Regression Command-Line (only necessary arguments)\n",
        "!python scripts/train_regression_model.py \\\n",
        "  --model_module 'lasso_regression' \\\n",
        "  --data_path 'data/raw/house-prices-advanced-regression-techniques/train.csv' \\\n",
        "  --target_variable 'SalePrice' \\\n",
        "  --drop_columns 'Id' \\\n",
        "  --log_transform \\\n",
        "  --visualize"
      ],
      "metadata": {
        "colab": {
          "base_uri": "https://localhost:8080/"
        },
        "id": "wORBMvAU6tnX",
        "outputId": "45f7d9fd-8ba8-4e23-bffd-d91d3e740aa2"
      },
      "execution_count": null,
      "outputs": [
        {
          "output_type": "stream",
          "name": "stdout",
          "text": [
            "Figure(600x400)\n",
            "Figure(600x400)\n",
            "Best Hyperparameters for Lasso:\n",
            "model__alpha: 0.01\n",
            "model__fit_intercept: True\n",
            "model__max_iter: 5000\n",
            "model__selection: cyclic\n",
            "preprocessor__num__imputer__strategy: mean\n",
            "preprocessor__num__scaler__with_mean: True\n",
            "preprocessor__num__scaler__with_std: True\n",
            "Trained model saved to saved_models/Lasso/best_model.pkl\n",
            "\n",
            "Lasso Regression Metrics on Test Set:\n",
            "- RMSE: 31470.7095\n",
            "- R² Score: 0.8709\n",
            "- MAE: 19511.7115\n",
            "- MSE: 990405559.1595\n",
            "- Training time: 4.2123 seconds\n",
            "\n",
            "Metrics saved to results/Lasso/metrics.csv\n",
            "Figure(800x600)\n",
            "Visualization saved to results/Lasso/actual_vs_predicted.png\n"
          ]
        }
      ]
    },
    {
      "cell_type": "markdown",
      "source": [
        "### ElasticNet Regression\n",
        "<a id=\"elasticnet-regression\"></a>"
      ],
      "metadata": {
        "id": "zgEYipCmBmFZ"
      }
    },
    {
      "cell_type": "markdown",
      "source": [
        "**Description**:\n",
        "\n",
        "ElasticNet Regression combines L1 and L2 regularization penalties of the Lasso and Ridge methods. It balances between the two, allowing for both coefficient shrinkage and feature selection.\n",
        "\n",
        "**Key Characteristics**:\n",
        "\n",
        "* **Flexibility**: Adjusts between Lasso and Ridge with a mixing parameter.\n",
        "* **Handling Multicollinearity**: Useful when dealing with correlated features."
      ],
      "metadata": {
        "id": "HoJFv33KJH0v"
      }
    },
    {
      "cell_type": "markdown",
      "source": [
        "#### Define the model (optional)"
      ],
      "metadata": {
        "id": "nkwbt8OaMqf6"
      }
    },
    {
      "cell_type": "code",
      "source": [
        "%%writefile models/supervised/regression/elasticnet_regression.py\n",
        "\n",
        "\"\"\"\n",
        "This module sets up an ElasticNet Regression model with hyperparameter tuning.\n",
        "\n",
        "Features:\n",
        "- Uses `ElasticNet` estimator from scikit-learn.\n",
        "- Combines L1 and L2 regularization.\n",
        "- Increases `max_iter` to address convergence warnings.\n",
        "\n",
        "Special Considerations:\n",
        "- May produce convergence warnings if `max_iter` is insufficient.\n",
        "- Adjust `l1_ratio` to balance between Lasso and Ridge penalties.\n",
        "- Applying a log transformation (`log_transform`) to the target variable can be beneficial if it's skewed.\n",
        "- Ensure `OneHotEncoder` outputs dense arrays.\n",
        "\"\"\"\n",
        "\n",
        "from sklearn.linear_model import ElasticNet\n",
        "\n",
        "# Define the estimator\n",
        "estimator = ElasticNet()\n",
        "\n",
        "# Define the hyperparameter grid\n",
        "param_grid = {\n",
        "    'model__alpha': [0.01, 0.1, 1.0, 10.0],  # Regularization strength\n",
        "    'model__l1_ratio': [0.2, 0.5, 0.8],  # Balance between L1 (Lasso) and L2 (Ridge)\n",
        "    'model__max_iter': [5000],  # Sufficient to avoid convergence warnings\n",
        "    'model__fit_intercept': [True],  # Assume intercept is important\n",
        "    'model__selection': ['cyclic'],  # Focus on the default cyclic selection\n",
        "    'preprocessor__num__imputer__strategy': ['mean'],  # Single imputation strategy\n",
        "    'preprocessor__num__scaler__with_mean': [True],  # StandardScaler\n",
        "    'preprocessor__num__scaler__with_std': [True],  # StandardScaler\n",
        "}\n",
        "\n",
        "# Optional: Define the default scoring metric\n",
        "default_scoring = 'neg_root_mean_squared_error'"
      ],
      "metadata": {
        "id": "FYboDpTzM_Wz"
      },
      "execution_count": null,
      "outputs": []
    },
    {
      "cell_type": "markdown",
      "source": [
        "#### Execute the model"
      ],
      "metadata": {
        "id": "NSsjQGj7M_dv"
      }
    },
    {
      "cell_type": "code",
      "source": [
        "# ElasticNet Regression Command-Line (only necessary arguments)\n",
        "!python scripts/train_regression_model.py \\\n",
        "  --model_module 'elasticnet_regression' \\\n",
        "  --data_path 'data/raw/house-prices-advanced-regression-techniques/train.csv' \\\n",
        "  --target_variable 'SalePrice' \\\n",
        "  --drop_columns 'Id' \\\n",
        "  --log_transform \\\n",
        "  --visualize"
      ],
      "metadata": {
        "colab": {
          "base_uri": "https://localhost:8080/"
        },
        "id": "tYfVn8vp6uFM",
        "outputId": "8d163b00-dc9d-4c9d-fafb-1a1a25b07b31"
      },
      "execution_count": null,
      "outputs": [
        {
          "output_type": "stream",
          "name": "stdout",
          "text": [
            "Figure(600x400)\n",
            "Figure(600x400)\n",
            "Best Hyperparameters for ElasticNet:\n",
            "model__alpha: 0.01\n",
            "model__fit_intercept: True\n",
            "model__l1_ratio: 0.2\n",
            "model__max_iter: 5000\n",
            "model__selection: cyclic\n",
            "preprocessor__num__imputer__strategy: mean\n",
            "preprocessor__num__scaler__with_mean: True\n",
            "preprocessor__num__scaler__with_std: True\n",
            "Trained model saved to saved_models/ElasticNet/best_model.pkl\n",
            "\n",
            "ElasticNet Regression Metrics on Test Set:\n",
            "- RMSE: 27427.4919\n",
            "- R² Score: 0.9019\n",
            "- MAE: 17490.3229\n",
            "- MSE: 752267312.4626\n",
            "- Training time: 5.2964 seconds\n",
            "\n",
            "Metrics saved to results/ElasticNet/metrics.csv\n",
            "Figure(800x600)\n",
            "Visualization saved to results/ElasticNet/actual_vs_predicted.png\n"
          ]
        }
      ]
    },
    {
      "cell_type": "markdown",
      "source": [
        "### Decision Tree\n",
        "<a id=\"decision-tree\"></a>"
      ],
      "metadata": {
        "id": "d9_wEAWQBtBq"
      }
    },
    {
      "cell_type": "markdown",
      "source": [
        "**Description**:\n",
        "\n",
        "A Decision Tree Regressor predicts the target by learning simple decision rules inferred from the data features. It splits the data into subsets based on feature values, resulting in a tree-like structure.\n",
        "\n",
        "**Key Characteristics**:\n",
        "\n",
        "* **Non-Parametric**: Makes no assumptions about the data distribution.\n",
        "Interpretable: Easy to visualize and interpret.\n",
        "* **Handles Non-Linear Relationships**: Can capture complex patterns."
      ],
      "metadata": {
        "id": "xiOIlQhNJLTc"
      }
    },
    {
      "cell_type": "markdown",
      "source": [
        "#### Define the model (optional)"
      ],
      "metadata": {
        "id": "NOGAkJNPMrcs"
      }
    },
    {
      "cell_type": "code",
      "source": [
        "%%writefile models/supervised/regression/decision_tree_regressor.py\n",
        "\n",
        "\"\"\"\n",
        "This module sets up a Decision Tree Regressor with hyperparameter tuning.\n",
        "\n",
        "Features:\n",
        "- Uses `DecisionTreeRegressor` estimator from scikit-learn.\n",
        "- Defines a hyperparameter grid for tree-specific parameters.\n",
        "- Handles non-linear relationships and interactions.\n",
        "\n",
        "Special Considerations:\n",
        "- Decision Trees are not affected by feature scaling.\n",
        "- Can easily overfit; control tree depth and splitting criteria.\n",
        "- No need for scaling transformers in the preprocessing pipeline.\n",
        "\"\"\"\n",
        "\n",
        "from sklearn.tree import DecisionTreeRegressor\n",
        "\n",
        "# Define the estimator\n",
        "estimator = DecisionTreeRegressor(random_state=42)\n",
        "\n",
        "# Define the hyperparameter grid\n",
        "param_grid = {\n",
        "    'model__criterion': ['squared_error', 'absolute_error'],  # Only two key criteria\n",
        "    'model__max_depth': [5, 10, 20, None],  # Depth variations\n",
        "    'model__min_samples_split': [2, 10],  # Commonly used values\n",
        "    'model__min_samples_leaf': [1, 4],  # Few values for leaves\n",
        "    'preprocessor__num__imputer__strategy': ['mean'],  # Focused on a single strategy\n",
        "}\n",
        "\n",
        "# Optional: Define the default scoring metric\n",
        "default_scoring = 'neg_root_mean_squared_error'"
      ],
      "metadata": {
        "id": "krBvaMFzNBcx"
      },
      "execution_count": null,
      "outputs": []
    },
    {
      "cell_type": "markdown",
      "source": [
        "#### Execute the model"
      ],
      "metadata": {
        "id": "YDXIJGwPNBjt"
      }
    },
    {
      "cell_type": "code",
      "source": [
        "# Decision Tree Command-Line (only necessary arguments)\n",
        "!python scripts/train_regression_model.py \\\n",
        "  --model_module 'decision_tree_regressor' \\\n",
        "  --data_path 'data/raw/house-prices-advanced-regression-techniques/train.csv' \\\n",
        "  --target_variable 'SalePrice' \\\n",
        "  --drop_columns 'Id' \\\n",
        "  --log_transform \\\n",
        "  --visualize"
      ],
      "metadata": {
        "colab": {
          "base_uri": "https://localhost:8080/"
        },
        "id": "z8X3BsJW6udc",
        "outputId": "db2933ea-4d0a-4ded-9889-9e999c1d0b6a"
      },
      "execution_count": null,
      "outputs": [
        {
          "output_type": "stream",
          "name": "stdout",
          "text": [
            "Figure(600x400)\n",
            "Figure(600x400)\n",
            "Best Hyperparameters for DecisionTreeRegressor:\n",
            "model__criterion: absolute_error\n",
            "model__max_depth: 10\n",
            "model__min_samples_leaf: 4\n",
            "model__min_samples_split: 10\n",
            "preprocessor__num__imputer__strategy: mean\n",
            "Trained model saved to saved_models/DecisionTreeRegressor/best_model.pkl\n",
            "\n",
            "DecisionTreeRegressor Regression Metrics on Test Set:\n",
            "- RMSE: 34605.7166\n",
            "- R² Score: 0.8439\n",
            "- MAE: 22125.2621\n",
            "- MSE: 1197555621.1528\n",
            "- Training time: 28.8380 seconds\n",
            "\n",
            "Metrics saved to results/DecisionTreeRegressor/metrics.csv\n",
            "Figure(800x600)\n",
            "Visualization saved to results/DecisionTreeRegressor/actual_vs_predicted.png\n"
          ]
        }
      ]
    },
    {
      "cell_type": "markdown",
      "source": [
        "### Random Forest (Bagging)\n",
        "<a id=\"random-forest\"></a>"
      ],
      "metadata": {
        "id": "9k550x6sBzr9"
      }
    },
    {
      "cell_type": "markdown",
      "source": [
        "**Description**:\n",
        "\n",
        "Random Forest is an ensemble method that builds multiple decision trees and merges their results to improve accuracy and control overfitting. It uses bagging (bootstrap aggregating), where each tree is trained on a random subset of the data.\n",
        "\n",
        "**Key Characteristics**:\n",
        "\n",
        "* **Ensemble Learning**: Combines multiple models to improve performance.\n",
        "* **Robustness**: Reduces variance and overfitting.\n",
        "Feature Importance: Provides estimates of feature importance."
      ],
      "metadata": {
        "id": "0K8iaVS-JOHL"
      }
    },
    {
      "cell_type": "markdown",
      "source": [
        "#### Define the model (optional)"
      ],
      "metadata": {
        "id": "7W5wj1fsMsk4"
      }
    },
    {
      "cell_type": "code",
      "source": [
        "%%writefile models/supervised/regression/random_forest_regressor.py\n",
        "\n",
        "\"\"\"\n",
        "This module sets up a Random Forest Regressor with hyperparameter tuning.\n",
        "\n",
        "Features:\n",
        "- Uses `RandomForestRegressor` estimator from scikit-learn.\n",
        "- Defines a hyperparameter grid for ensemble parameters.\n",
        "- Handles non-linear relationships and reduces overfitting through averaging.\n",
        "\n",
        "Special Considerations:\n",
        "- Random Forests are robust to outliers and can handle non-linear data.\n",
        "- Not sensitive to feature scaling.\n",
        "- Set `n_jobs=-1` to utilize all available CPU cores.\n",
        "\"\"\"\n",
        "\n",
        "from sklearn.ensemble import RandomForestRegressor\n",
        "\n",
        "# Define the estimator\n",
        "estimator = RandomForestRegressor(random_state=42, n_jobs=-1)\n",
        "\n",
        "# Define the hyperparameter grid\n",
        "param_grid = {\n",
        "    'model__n_estimators': [100, 200],  # Focus on a small range of estimators\n",
        "    'model__max_depth': [10, 20, None],  # Commonly used depth variations\n",
        "    'model__min_samples_split': [2, 5],  # Commonly used split values\n",
        "    'model__min_samples_leaf': [1, 2],  # Focused leaf size\n",
        "    'model__max_features': ['sqrt'],  # \"sqrt\" is often optimal for Random Forests\n",
        "    'preprocessor__num__imputer__strategy': ['mean'],  # Single imputation strategy\n",
        "}\n",
        "\n",
        "# Optional: Define the default scoring metric\n",
        "default_scoring = 'neg_root_mean_squared_error'"
      ],
      "metadata": {
        "id": "zezsa8YnNC5x"
      },
      "execution_count": null,
      "outputs": []
    },
    {
      "cell_type": "markdown",
      "source": [
        "#### Execute the model"
      ],
      "metadata": {
        "id": "ERwYVhzHNC_Y"
      }
    },
    {
      "cell_type": "code",
      "source": [
        "# Random Forest Command-Line (only necessary arguments)\n",
        "!python scripts/train_regression_model.py \\\n",
        "  --model_module 'random_forest_regressor' \\\n",
        "  --data_path 'data/raw/house-prices-advanced-regression-techniques/train.csv' \\\n",
        "  --target_variable 'SalePrice' \\\n",
        "  --drop_columns 'Id' \\\n",
        "  --visualize"
      ],
      "metadata": {
        "colab": {
          "base_uri": "https://localhost:8080/"
        },
        "id": "pmQAt3PJ6u1N",
        "outputId": "3b97da3f-12f7-437a-e8df-a994c2ba8fde"
      },
      "execution_count": null,
      "outputs": [
        {
          "output_type": "stream",
          "name": "stdout",
          "text": [
            "Figure(600x400)\n",
            "Best Hyperparameters for RandomForestRegressor:\n",
            "model__max_depth: None\n",
            "model__max_features: sqrt\n",
            "model__min_samples_leaf: 1\n",
            "model__min_samples_split: 2\n",
            "model__n_estimators: 200\n",
            "preprocessor__num__imputer__strategy: mean\n",
            "Trained model saved to saved_models/RandomForestRegressor/best_model.pkl\n",
            "\n",
            "RandomForestRegressor Regression Metrics on Test Set:\n",
            "- RMSE: 31141.3623\n",
            "- R² Score: 0.8736\n",
            "- MAE: 17493.2245\n",
            "- MSE: 969784446.8156\n",
            "- Training time: 69.8688 seconds\n",
            "\n",
            "Metrics saved to results/RandomForestRegressor/metrics.csv\n",
            "Figure(800x600)\n",
            "Visualization saved to results/RandomForestRegressor/actual_vs_predicted.png\n"
          ]
        }
      ]
    },
    {
      "cell_type": "markdown",
      "source": [
        "### Gradient Boosting (Boosting)\n",
        "<a id=\"gradient-boosting\"></a>"
      ],
      "metadata": {
        "id": "suRkj0wAB9L5"
      }
    },
    {
      "cell_type": "markdown",
      "source": [
        "**Description**:\n",
        "\n",
        "Gradient Boosting builds models sequentially, each trying to correct the errors of the previous one. It combines weak learners into a strong learner, focusing on instances that previous models mispredicted.\n",
        "\n",
        "**Key Characteristics**:\n",
        "\n",
        "* **Boosting**: Sequentially reduces errors.\n",
        "* **Handles Complex Data**: Captures non-linear relationships.\n",
        "* **Flexibility**: Offers various hyperparameters for tuning."
      ],
      "metadata": {
        "id": "hbnvSMYUJS8X"
      }
    },
    {
      "cell_type": "markdown",
      "source": [
        "#### Define the model (optional)"
      ],
      "metadata": {
        "id": "dXHOCsQ4MtlK"
      }
    },
    {
      "cell_type": "code",
      "source": [
        "%%writefile models/supervised/regression/gradient_boosting_regressor.py\n",
        "\n",
        "\"\"\"\n",
        "This module sets up a Gradient Boosting Regressor with hyperparameter tuning.\n",
        "\n",
        "Features:\n",
        "- Uses `GradientBoostingRegressor` estimator from scikit-learn.\n",
        "- Defines a hyperparameter grid for boosting parameters.\n",
        "- Builds sequential models to minimize errors.\n",
        "\n",
        "Special Considerations:\n",
        "- Sensitive to overfitting; tune `n_estimators` and `learning_rate`.\n",
        "- Not sensitive to feature scaling.\n",
        "- Longer training times compared to other models.\n",
        "\"\"\"\n",
        "\n",
        "from sklearn.ensemble import GradientBoostingRegressor\n",
        "\n",
        "# Define the estimator\n",
        "estimator = GradientBoostingRegressor(random_state=42)\n",
        "\n",
        "# Define the hyperparameter grid\n",
        "param_grid = {\n",
        "    'model__n_estimators': [100, 200],  # Focused range of estimators\n",
        "    'model__learning_rate': [0.001, 0.01, 0.1, 1],  # Commonly used learning rates\n",
        "    'model__max_depth': [3, 5],  # Standard depth values\n",
        "    'model__subsample': [0.8],  # Single value to focus on speed\n",
        "    'model__min_samples_split': [2],  # Default value\n",
        "    'model__min_samples_leaf': [1],  # Default value\n",
        "    'preprocessor__num__imputer__strategy': ['mean'],  # Single imputation strategy\n",
        "}\n",
        "\n",
        "# Optional: Define the default scoring metric\n",
        "default_scoring = 'neg_root_mean_squared_error'"
      ],
      "metadata": {
        "id": "bv1lxiTnNEez"
      },
      "execution_count": null,
      "outputs": []
    },
    {
      "cell_type": "markdown",
      "source": [
        "#### Execute the model"
      ],
      "metadata": {
        "id": "i4Zigfu-NElM"
      }
    },
    {
      "cell_type": "code",
      "source": [
        "# Gradient Boosting Command-Line (only necessary arguments)\n",
        "!python scripts/train_regression_model.py \\\n",
        "  --model_module 'gradient_boosting_regressor' \\\n",
        "  --data_path 'data/raw/house-prices-advanced-regression-techniques/train.csv' \\\n",
        "  --target_variable 'SalePrice' \\\n",
        "  --drop_columns 'Id' \\\n",
        "  --visualize"
      ],
      "metadata": {
        "colab": {
          "base_uri": "https://localhost:8080/"
        },
        "id": "AGB_nGR76vQ-",
        "outputId": "8a3c1a08-7b6d-459c-9fca-4381ef8777f8"
      },
      "execution_count": null,
      "outputs": [
        {
          "output_type": "stream",
          "name": "stdout",
          "text": [
            "Figure(600x400)\n",
            "Best Hyperparameters for GradientBoostingRegressor:\n",
            "model__learning_rate: 0.1\n",
            "model__max_depth: 5\n",
            "model__min_samples_leaf: 1\n",
            "model__min_samples_split: 2\n",
            "model__n_estimators: 200\n",
            "model__subsample: 0.8\n",
            "preprocessor__num__imputer__strategy: mean\n",
            "Trained model saved to saved_models/GradientBoostingRegressor/best_model.pkl\n",
            "\n",
            "GradientBoostingRegressor Regression Metrics on Test Set:\n",
            "- RMSE: 25998.2375\n",
            "- R² Score: 0.9119\n",
            "- MAE: 16320.9359\n",
            "- MSE: 675908355.6096\n",
            "- Training time: 87.9086 seconds\n",
            "\n",
            "Metrics saved to results/GradientBoostingRegressor/metrics.csv\n",
            "Figure(800x600)\n",
            "Visualization saved to results/GradientBoostingRegressor/actual_vs_predicted.png\n"
          ]
        }
      ]
    },
    {
      "cell_type": "markdown",
      "source": [
        "### AdaBoost (Boosting)\n",
        "<a id=\"adaboost\"></a>"
      ],
      "metadata": {
        "id": "DEV46GUDCFGW"
      }
    },
    {
      "cell_type": "markdown",
      "source": [
        "**Description**:\n",
        "\n",
        "AdaBoost, short for Adaptive Boosting, combines multiple weak learners (typically decision trees with a single split) to create a strong learner. It adjusts the weights of observations based on errors, emphasizing harder-to-predict instances.\n",
        "\n",
        "**Key Characteristics**:\n",
        "\n",
        "* **Adaptive Learning**: Focuses on difficult cases.\n",
        "* **Simple Base Learners**: Uses weak learners for efficiency.\n",
        "* **Overfitting Risk**: Can overfit if not properly regularized."
      ],
      "metadata": {
        "id": "t5m_N5geJVNu"
      }
    },
    {
      "cell_type": "markdown",
      "source": [
        "#### Define the model (optional)"
      ],
      "metadata": {
        "id": "msL3RTAOMuoG"
      }
    },
    {
      "cell_type": "code",
      "source": [
        "%%writefile models/supervised/regression/adaboost_regressor.py\n",
        "\n",
        "\"\"\"\n",
        "This module sets up an AdaBoost Regressor with hyperparameter tuning.\n",
        "\n",
        "Features:\n",
        "- Uses `AdaBoostRegressor` estimator from scikit-learn.\n",
        "- Defines a hyperparameter grid for boosting parameters.\n",
        "- Combines weak learners to form a strong predictor.\n",
        "\n",
        "Special Considerations:\n",
        "- Sensitive to outliers.\n",
        "- Not sensitive to feature scaling.\n",
        "- Base estimator is a Decision Tree by default.\n",
        "\"\"\"\n",
        "\n",
        "from sklearn.ensemble import AdaBoostRegressor\n",
        "\n",
        "# Define the estimator\n",
        "estimator = AdaBoostRegressor(random_state=42)\n",
        "\n",
        "# Define the hyperparameter grid\n",
        "param_grid = {\n",
        "    'model__n_estimators': [50, 100],  # Focus on a narrower range of estimators\n",
        "    'model__learning_rate': [0.001, 0.01, 0.1, 1.0],  # Keep a good spread for learning rates\n",
        "    'model__loss': ['linear'],  # Focus on the most commonly used loss function\n",
        "    'preprocessor__num__imputer__strategy': ['mean'],  # Single imputation strategy\n",
        "}\n",
        "\n",
        "# Optional: Define the default scoring metric\n",
        "default_scoring = 'neg_root_mean_squared_error'"
      ],
      "metadata": {
        "id": "CkkAN1jpNFh3"
      },
      "execution_count": null,
      "outputs": []
    },
    {
      "cell_type": "markdown",
      "source": [
        "#### Execute the model"
      ],
      "metadata": {
        "id": "52Z3RFAqNFpB"
      }
    },
    {
      "cell_type": "code",
      "source": [
        "# AdaBoost Command-Line (only necessary arguments)\n",
        "!python scripts/train_regression_model.py \\\n",
        "  --model_module 'adaboost_regressor' \\\n",
        "  --data_path 'data/raw/house-prices-advanced-regression-techniques/train.csv' \\\n",
        "  --target_variable 'SalePrice' \\\n",
        "  --drop_columns 'Id' \\\n",
        "  --visualize"
      ],
      "metadata": {
        "colab": {
          "base_uri": "https://localhost:8080/"
        },
        "id": "wU_42sqe35bh",
        "outputId": "2cbd1e83-920b-4875-8e8a-f142cc5e2fec"
      },
      "execution_count": null,
      "outputs": [
        {
          "output_type": "stream",
          "name": "stdout",
          "text": [
            "Figure(600x400)\n",
            "Best Hyperparameters for AdaBoostRegressor:\n",
            "model__learning_rate: 1.0\n",
            "model__loss: linear\n",
            "model__n_estimators: 50\n",
            "preprocessor__num__imputer__strategy: mean\n",
            "Trained model saved to saved_models/AdaBoostRegressor/best_model.pkl\n",
            "\n",
            "AdaBoostRegressor Regression Metrics on Test Set:\n",
            "- RMSE: 35433.5540\n",
            "- R² Score: 0.8363\n",
            "- MAE: 24968.2742\n",
            "- MSE: 1255536749.6531\n",
            "- Training time: 35.2542 seconds\n",
            "\n",
            "Metrics saved to results/AdaBoostRegressor/metrics.csv\n",
            "Figure(800x600)\n",
            "Visualization saved to results/AdaBoostRegressor/actual_vs_predicted.png\n"
          ]
        }
      ]
    },
    {
      "cell_type": "markdown",
      "source": [
        "### XGBoost (Boosting)\n",
        "<a id=\"xgboost\"></a>"
      ],
      "metadata": {
        "id": "PmMk-z0GCKzA"
      }
    },
    {
      "cell_type": "markdown",
      "source": [
        "**Description**:\n",
        "\n",
        "XGBoost (Extreme Gradient Boosting) is an optimized gradient boosting library designed to be highly efficient and scalable. It incorporates advanced regularization to prevent overfitting and supports parallel processing.\n",
        "\n",
        "**Key Characteristics**:\n",
        "\n",
        "* **Performance**: Fast and efficient.\n",
        "* **Regularization**: L1 and L2 regularization to prevent overfitting.\n",
        "* **Cross-Platform**: Works across various platforms and interfaces."
      ],
      "metadata": {
        "id": "-o-Pa0P3JX83"
      }
    },
    {
      "cell_type": "markdown",
      "source": [
        "#### Define the model (optional)"
      ],
      "metadata": {
        "id": "DJcK5sAiMvi2"
      }
    },
    {
      "cell_type": "code",
      "source": [
        "%%writefile models/supervised/regression/xgboost_regressor.py\n",
        "\n",
        "\"\"\"\n",
        "This module sets up an XGBoost Regressor with hyperparameter tuning.\n",
        "\n",
        "Features:\n",
        "- Uses `XGBRegressor` estimator from XGBoost.\n",
        "- Defines a hyperparameter grid for boosting parameters.\n",
        "- Efficient and scalable implementation of gradient boosting.\n",
        "\n",
        "Special Considerations:\n",
        "- Requires the `xgboost` library (`pip install xgboost`).\n",
        "- Handles missing values internally.\n",
        "- Not sensitive to feature scaling.\n",
        "- May require setting `tree_method` to 'gpu_hist' for GPU acceleration if available.\n",
        "\"\"\"\n",
        "\n",
        "from xgboost import XGBRegressor\n",
        "\n",
        "# Define the estimator\n",
        "estimator = XGBRegressor(random_state=42, n_jobs=-1, verbosity=0)\n",
        "\n",
        "# Define the hyperparameter grid\n",
        "param_grid = {\n",
        "    'model__n_estimators': [100, 200],  # Common range for estimators\n",
        "    'model__learning_rate': [0.05, 0.1],  # Common learning rates\n",
        "    'model__max_depth': [3, 5],  # Typical depth for gradient boosting\n",
        "    'model__subsample': [0.8],  # Fixed subsample value to reduce complexity\n",
        "    'model__colsample_bytree': [0.8],  # Fixed colsample value to reduce complexity\n",
        "    'model__reg_alpha': [0, 0.1],  # Focus on smaller values for L1 regularization\n",
        "    'model__reg_lambda': [1],  # Default L2 regularization\n",
        "    'preprocessor__num__imputer__strategy': ['mean'],  # Single imputation strategy\n",
        "}\n",
        "\n",
        "# Optional: Define the default scoring metric\n",
        "default_scoring = 'neg_root_mean_squared_error'"
      ],
      "metadata": {
        "id": "pGFcd8J1NGxy"
      },
      "execution_count": null,
      "outputs": []
    },
    {
      "cell_type": "markdown",
      "source": [
        "#### Execute the model"
      ],
      "metadata": {
        "id": "D5pCGVaJNG7t"
      }
    },
    {
      "cell_type": "code",
      "source": [
        "# XGBoost Command-Line (only necessary arguments)\n",
        "!python scripts/train_regression_model.py \\\n",
        "  --model_module 'xgboost_regressor' \\\n",
        "  --data_path 'data/raw/house-prices-advanced-regression-techniques/train.csv' \\\n",
        "  --target_variable 'SalePrice' \\\n",
        "  --drop_columns 'Id' \\\n",
        "  --visualize"
      ],
      "metadata": {
        "colab": {
          "base_uri": "https://localhost:8080/"
        },
        "id": "s3FoQj0Z6wAJ",
        "outputId": "7bd106ed-87f0-439c-cd16-bb1a795b4a6e"
      },
      "execution_count": null,
      "outputs": [
        {
          "output_type": "stream",
          "name": "stdout",
          "text": [
            "Figure(600x400)\n",
            "Best Hyperparameters for XGBRegressor:\n",
            "model__colsample_bytree: 0.8\n",
            "model__learning_rate: 0.05\n",
            "model__max_depth: 5\n",
            "model__n_estimators: 200\n",
            "model__reg_alpha: 0\n",
            "model__reg_lambda: 1\n",
            "model__subsample: 0.8\n",
            "preprocessor__num__imputer__strategy: mean\n",
            "Trained model saved to saved_models/XGBRegressor/best_model.pkl\n",
            "\n",
            "XGBRegressor Regression Metrics on Test Set:\n",
            "- RMSE: 24458.9203\n",
            "- R² Score: 0.9220\n",
            "- MAE: 15458.4836\n",
            "- MSE: 598238780.8996\n",
            "- Training time: 29.4402 seconds\n",
            "\n",
            "Metrics saved to results/XGBRegressor/metrics.csv\n",
            "Figure(800x600)\n",
            "Visualization saved to results/XGBRegressor/actual_vs_predicted.png\n"
          ]
        }
      ]
    },
    {
      "cell_type": "markdown",
      "source": [
        "### LightGBM\n",
        "<a id=\"lightgbm\"></a>"
      ],
      "metadata": {
        "id": "rCQZ07QBCQNe"
      }
    },
    {
      "cell_type": "markdown",
      "source": [
        "**Description**:\n",
        "\n",
        "LightGBM is a gradient boosting framework that uses tree-based learning algorithms. It's designed to be distributed and efficient, with faster training speed and lower memory usage compared to other algorithms.\n",
        "\n",
        "**Key Characteristics**:\n",
        "\n",
        "* **Efficiency**: Faster training with lower memory consumption.\n",
        "* **Accuracy**: High accuracy with large datasets.\n",
        "* **Support for Categorical Features**: Handles categorical variables directly."
      ],
      "metadata": {
        "id": "NoDSeD-4Jaac"
      }
    },
    {
      "cell_type": "markdown",
      "source": [
        "#### Define the model (optional)"
      ],
      "metadata": {
        "id": "cp-YOrnvMwuE"
      }
    },
    {
      "cell_type": "code",
      "source": [
        "%%writefile models/supervised/regression/lightgbm_regressor.py\n",
        "\n",
        "\"\"\"\n",
        "This module sets up a LightGBM Regressor with hyperparameter tuning.\n",
        "\n",
        "Features:\n",
        "- Uses `LGBMRegressor` estimator from LightGBM.\n",
        "- Defines a hyperparameter grid for boosting parameters.\n",
        "- Optimized for speed and performance.\n",
        "\n",
        "Special Considerations:\n",
        "- Requires the `lightgbm` library (`pip install lightgbm`).\n",
        "- Can handle categorical features if provided appropriately.\n",
        "- Not sensitive to feature scaling.\n",
        "\"\"\"\n",
        "\n",
        "from lightgbm import LGBMRegressor\n",
        "\n",
        "# Define the estimator\n",
        "estimator = LGBMRegressor(\n",
        "    random_state=42,\n",
        "    n_jobs=-1,\n",
        "    verbose=-1\n",
        ")\n",
        "\n",
        "# Define hyperparameter grid\n",
        "param_grid = {\n",
        "    'model__n_estimators': [100, 200],\n",
        "    'model__learning_rate': [0.01, 0.05],\n",
        "    'model__num_leaves': [15, 31],\n",
        "    'model__max_depth': [10, 20],\n",
        "    'model__min_data_in_leaf': [20, 50],\n",
        "    'model__colsample_bytree': [0.8],\n",
        "    'preprocessor__num__imputer__strategy': ['mean'],\n",
        "}\n",
        "\n",
        "# Optional: Define the default scoring metric\n",
        "default_scoring = 'neg_root_mean_squared_error'"
      ],
      "metadata": {
        "id": "c4A9UfwPNINP"
      },
      "execution_count": null,
      "outputs": []
    },
    {
      "cell_type": "markdown",
      "source": [
        "#### Execute the model"
      ],
      "metadata": {
        "id": "Mx84rI9pNIT-"
      }
    },
    {
      "cell_type": "code",
      "source": [
        "# LightGBM Command-Line (only necessary arguments)\n",
        "!python scripts/train_regression_model.py \\\n",
        "  --model_module 'lightgbm_regressor' \\\n",
        "  --data_path 'data/raw/house-prices-advanced-regression-techniques/train.csv' \\\n",
        "  --target_variable 'SalePrice' \\\n",
        "  --drop_columns 'Id' \\\n",
        "  --visualize"
      ],
      "metadata": {
        "colab": {
          "base_uri": "https://localhost:8080/"
        },
        "id": "cKsGMT9y7F4X",
        "outputId": "bbb24dd7-1a29-41c5-b8bb-40faf1337e71"
      },
      "execution_count": null,
      "outputs": [
        {
          "output_type": "stream",
          "name": "stdout",
          "text": [
            "Figure(600x400)\n",
            "Best Hyperparameters for LGBMRegressor:\n",
            "model__colsample_bytree: 0.8\n",
            "model__learning_rate: 0.05\n",
            "model__max_depth: 20\n",
            "model__min_data_in_leaf: 20\n",
            "model__n_estimators: 200\n",
            "model__num_leaves: 15\n",
            "preprocessor__num__imputer__strategy: mean\n",
            "Trained model saved to saved_models/LGBMRegressor/best_model.pkl\n",
            "\n",
            "LGBMRegressor Regression Metrics on Test Set:\n",
            "- RMSE: 28371.7708\n",
            "- R² Score: 0.8951\n",
            "- MAE: 15864.0800\n",
            "- MSE: 804957380.9743\n",
            "- Training time: 362.1315 seconds\n",
            "\n",
            "Metrics saved to results/LGBMRegressor/metrics.csv\n",
            "Figure(800x600)\n",
            "Visualization saved to results/LGBMRegressor/actual_vs_predicted.png\n"
          ]
        }
      ]
    },
    {
      "cell_type": "markdown",
      "source": [
        "### CatBoost\n",
        "<a id=\"catboost\"></a>"
      ],
      "metadata": {
        "id": "--sE8T7yCV9E"
      }
    },
    {
      "cell_type": "markdown",
      "source": [
        "**Description**:\n",
        "\n",
        "CatBoost is a gradient boosting algorithm that handles categorical features natively, reducing the need for extensive preprocessing. It's known for its high performance and ease of use.\n",
        "\n",
        "**Key Characteristics**:\n",
        "\n",
        "* **Categorical Features**: Handles categorical variables without one-hot encoding.\n",
        "* **Efficiency**: Fast training with GPU support.\n",
        "* **Avoids Overfitting**: Implements techniques to prevent overfitting.\n",
        "\n",
        "**Special Consideration**:\n",
        "Since CatBoost handles categorical features natively, you can adjust the preprocessing pipeline to exclude one-hot encoding when using this model."
      ],
      "metadata": {
        "id": "XthcCbqRJcub"
      }
    },
    {
      "cell_type": "markdown",
      "source": [
        "#### Define the model (optional)"
      ],
      "metadata": {
        "id": "_N57zxM7Mxsg"
      }
    },
    {
      "cell_type": "code",
      "source": [
        "%%writefile models/supervised/regression/catboost_regressor.py\n",
        "\n",
        "\"\"\"\n",
        "This module sets up a CatBoost Regressor with hyperparameter tuning.\n",
        "\n",
        "Features:\n",
        "- Uses `CatBoostRegressor` estimator from CatBoost.\n",
        "- Defines a hyperparameter grid for boosting parameters.\n",
        "- Handles categorical features natively.\n",
        "\n",
        "Special Considerations:\n",
        "- Requires the `catboost` library (`pip install catboost`).\n",
        "- Adjust the preprocessing pipeline to skip encoding categorical features.\n",
        "- Not sensitive to feature scaling.\n",
        "- Can be slower to train compared to other boosting algorithms.\n",
        "\"\"\"\n",
        "\n",
        "from catboost import CatBoostRegressor\n",
        "\n",
        "# Define the estimator\n",
        "estimator = CatBoostRegressor(random_state=42, verbose=0)\n",
        "\n",
        "# Define the hyperparameter grid\n",
        "param_grid = {\n",
        "    'model__iterations': [500],  # Fixed to a reasonable value for faster tuning\n",
        "    'model__learning_rate': [0.05, 0.1],  # Common learning rates\n",
        "    'model__depth': [6, 8],  # Typical depths for balance between speed and accuracy\n",
        "    'model__l2_leaf_reg': [3],  # Most impactful regularization value\n",
        "    'preprocessor__num__imputer__strategy': ['mean'],  # Single imputation strategy\n",
        "}\n",
        "\n",
        "# Optional: Define the default scoring metric\n",
        "default_scoring = 'neg_root_mean_squared_error'"
      ],
      "metadata": {
        "id": "3XKcyEgPNJPX"
      },
      "execution_count": null,
      "outputs": []
    },
    {
      "cell_type": "markdown",
      "source": [
        "#### Execute the model"
      ],
      "metadata": {
        "id": "VipG6KwtNJWD"
      }
    },
    {
      "cell_type": "code",
      "source": [
        "# CatBoost Command-Line (only necessary arguments)\n",
        "!python scripts/train_regression_model.py \\\n",
        "  --model_module 'catboost_regressor' \\\n",
        "  --data_path 'data/raw/house-prices-advanced-regression-techniques/train.csv' \\\n",
        "  --target_variable 'SalePrice' \\\n",
        "  --drop_columns 'Id' \\\n",
        "  --visualize"
      ],
      "metadata": {
        "colab": {
          "base_uri": "https://localhost:8080/"
        },
        "id": "SR8CyRH66wuK",
        "outputId": "4d46a6fb-2ca4-412e-b28f-8baca912b2e8"
      },
      "execution_count": null,
      "outputs": [
        {
          "output_type": "stream",
          "name": "stdout",
          "text": [
            "Figure(600x400)\n",
            "Best Hyperparameters for CatBoostRegressor:\n",
            "model__depth: 6\n",
            "model__iterations: 500\n",
            "model__l2_leaf_reg: 3\n",
            "model__learning_rate: 0.05\n",
            "preprocessor__num__imputer__strategy: mean\n",
            "Trained model saved to saved_models/CatBoostRegressor/best_model.pkl\n",
            "\n",
            "CatBoostRegressor Regression Metrics on Test Set:\n",
            "- RMSE: 26504.1776\n",
            "- R² Score: 0.9084\n",
            "- MAE: 15922.7284\n",
            "- MSE: 702471428.7421\n",
            "- Training time: 127.4880 seconds\n",
            "\n",
            "Metrics saved to results/CatBoostRegressor/metrics.csv\n",
            "Figure(800x600)\n",
            "Visualization saved to results/CatBoostRegressor/actual_vs_predicted.png\n"
          ]
        }
      ]
    },
    {
      "cell_type": "markdown",
      "source": [
        "### Support Vector Regressor (SVR)\n",
        "<a id=\"support-vector-regressor\"></a>"
      ],
      "metadata": {
        "id": "xnJ27I3KCaJ5"
      }
    },
    {
      "cell_type": "markdown",
      "source": [
        "**Description**:\n",
        "\n",
        "Support Vector Regression (SVR) applies the principles of Support Vector Machines (SVM) to regression problems. It tries to fit the error within a certain threshold (epsilon), making it robust to outliers.\n",
        "\n",
        "**Key Characteristics**:\n",
        "\n",
        "* **Kernel Functions**: Uses kernel tricks to handle non-linear relationships.\n",
        "* **Robustness**: Less sensitive to outliers due to the epsilon-insensitive loss function.\n",
        "* **Feature Scaling**: Requires features to be scaled for optimal performance."
      ],
      "metadata": {
        "id": "0f_G-LF3Je9I"
      }
    },
    {
      "cell_type": "markdown",
      "source": [
        "#### Define the model (optional)"
      ],
      "metadata": {
        "id": "3yDPN8HKMyt6"
      }
    },
    {
      "cell_type": "code",
      "source": [
        "%%writefile models/supervised/regression/support_vector_regressor.py\n",
        "\n",
        "\"\"\"\n",
        "This module sets up a Support Vector Regressor (SVR) with hyperparameter tuning.\n",
        "\n",
        "Features:\n",
        "- Uses `SVR` estimator from scikit-learn.\n",
        "- Defines a hyperparameter grid for kernel parameters.\n",
        "- Effective in high-dimensional spaces.\n",
        "\n",
        "Special Considerations:\n",
        "- Feature scaling is crucial for SVR.\n",
        "- Training time can be significant for large datasets.\n",
        "- Applying a log transformation (`log_transform`) can be beneficial if the target variable is skewed.\n",
        "\"\"\"\n",
        "\n",
        "from sklearn.svm import SVR\n",
        "from sklearn.preprocessing import StandardScaler, MinMaxScaler\n",
        "\n",
        "# Define the estimator\n",
        "estimator = SVR()\n",
        "\n",
        "# Define the hyperparameter grid\n",
        "param_grid = {\n",
        "    'model__kernel': ['rbf'],  # Stick to the most effective kernel\n",
        "    'model__C': [0.1, 1.0, 10.0],  # Focus on a narrower range\n",
        "    'model__epsilon': [0.1, 0.2, 0.5],  # Retain small deviations\n",
        "    'model__gamma': ['scale', 0.1],  # Simplify gamma\n",
        "    'preprocessor__num__imputer__strategy': ['mean'],  # Single imputation strategy\n",
        "    'preprocessor__num__scaler__with_mean': [True],\n",
        "    'preprocessor__num__scaler__with_std': [True],\n",
        "}\n",
        "\n",
        "# Optional: Define the default scoring metric\n",
        "default_scoring = 'neg_root_mean_squared_error'"
      ],
      "metadata": {
        "id": "n174na3CNKLx"
      },
      "execution_count": null,
      "outputs": []
    },
    {
      "cell_type": "markdown",
      "source": [
        "#### Execute the model"
      ],
      "metadata": {
        "id": "X5cN2HSONKRa"
      }
    },
    {
      "cell_type": "code",
      "source": [
        "# Support Vector Regressor (SVR) Command-Line (only necessary arguments)\n",
        "!python scripts/train_regression_model.py \\\n",
        "  --model_module 'support_vector_regressor' \\\n",
        "  --data_path 'data/raw/house-prices-advanced-regression-techniques/train.csv' \\\n",
        "  --target_variable 'SalePrice' \\\n",
        "  --drop_columns 'Id' \\\n",
        "  --log_transform \\\n",
        "  --visualize"
      ],
      "metadata": {
        "colab": {
          "base_uri": "https://localhost:8080/"
        },
        "id": "kwNIMB946xFz",
        "outputId": "91dbbc52-a457-4de3-d376-fd47f5d53410"
      },
      "execution_count": null,
      "outputs": [
        {
          "output_type": "stream",
          "name": "stdout",
          "text": [
            "Figure(600x400)\n",
            "Figure(600x400)\n",
            "Best Hyperparameters for SVR:\n",
            "model__C: 1.0\n",
            "model__epsilon: 0.1\n",
            "model__gamma: scale\n",
            "model__kernel: rbf\n",
            "preprocessor__num__imputer__strategy: mean\n",
            "preprocessor__num__scaler__with_mean: True\n",
            "preprocessor__num__scaler__with_std: True\n",
            "Trained model saved to saved_models/SVR/best_model.pkl\n",
            "\n",
            "SVR Regression Metrics on Test Set:\n",
            "- RMSE: 34573.7841\n",
            "- R² Score: 0.8442\n",
            "- MAE: 18105.2274\n",
            "- MSE: 1195346548.1486\n",
            "- Training time: 13.8160 seconds\n",
            "\n",
            "Metrics saved to results/SVR/metrics.csv\n",
            "Figure(800x600)\n",
            "Visualization saved to results/SVR/actual_vs_predicted.png\n"
          ]
        }
      ]
    },
    {
      "cell_type": "markdown",
      "source": [
        "### K-Nearest Neighbors (KNN) Regressor\n",
        "<a id=\"knn-regressor\"></a>"
      ],
      "metadata": {
        "id": "CLALtUgrCfqU"
      }
    },
    {
      "cell_type": "markdown",
      "source": [
        "**Description**:\n",
        "\n",
        "KNN Regressor predicts the target based on the average of the nearest neighbors in the feature space. It's a non-parametric method that can capture local patterns.\n",
        "\n",
        "**Key Characteristics**:\n",
        "\n",
        "* **Simplicity**: Easy to understand and implement.\n",
        "* **Non-Parametric**: Makes no assumptions about the data distribution.\n",
        "* **Feature Scaling**: Sensitive to the scale of features."
      ],
      "metadata": {
        "id": "2AYvRgOXJhty"
      }
    },
    {
      "cell_type": "markdown",
      "source": [
        "#### Define the model (optional)"
      ],
      "metadata": {
        "id": "U2g1RuatMzn6"
      }
    },
    {
      "cell_type": "code",
      "source": [
        "%%writefile models/supervised/regression/knn_regressor.py\n",
        "\n",
        "\"\"\"\n",
        "This module sets up a K-Nearest Neighbors Regressor with hyperparameter tuning.\n",
        "\n",
        "Features:\n",
        "- Uses `KNeighborsRegressor` estimator from scikit-learn.\n",
        "- Defines a hyperparameter grid for neighbor parameters.\n",
        "- Non-parametric method useful for capturing local patterns.\n",
        "\n",
        "Special Considerations:\n",
        "- Feature scaling is crucial for KNN.\n",
        "- Sensitive to the choice of `n_neighbors`.\n",
        "- Training is fast, but prediction can be slow on large datasets.\n",
        "\"\"\"\n",
        "\n",
        "from sklearn.neighbors import KNeighborsRegressor\n",
        "from sklearn.preprocessing import StandardScaler, MinMaxScaler\n",
        "\n",
        "# Define the estimator\n",
        "estimator = KNeighborsRegressor(n_jobs=-1)\n",
        "\n",
        "# Define the hyperparameter grid\n",
        "param_grid = {\n",
        "    'model__n_neighbors': [3, 5, 7],  # Focus on common neighbor values\n",
        "    'model__weights': ['uniform', 'distance'],  # Standard options\n",
        "    'model__algorithm': ['auto', 'ball_tree'],  # Reduce algorithms to commonly used ones\n",
        "    'model__p': [1, 2],  # Manhattan and Euclidean distances\n",
        "    'preprocessor__num__imputer__strategy': ['mean'],  # Single imputation strategy\n",
        "    'preprocessor__num__scaler__with_mean': [True],  # StandardScaler\n",
        "    'preprocessor__num__scaler__with_std': [True],  # StandardScaler\n",
        "}\n",
        "\n",
        "# Optional: Define the default scoring metric\n",
        "default_scoring = 'neg_root_mean_squared_error'"
      ],
      "metadata": {
        "id": "N8laMB6PNLQd"
      },
      "execution_count": null,
      "outputs": []
    },
    {
      "cell_type": "markdown",
      "source": [
        "#### Execute the model"
      ],
      "metadata": {
        "id": "XnsGuDCrNLVV"
      }
    },
    {
      "cell_type": "code",
      "source": [
        "# K-Nearest Neighbors (KNN) Regressor Command-Line (only necessary arguments)\n",
        "!python scripts/train_regression_model.py \\\n",
        "  --model_module 'knn_regressor' \\\n",
        "  --data_path 'data/raw/house-prices-advanced-regression-techniques/train.csv' \\\n",
        "  --target_variable 'SalePrice' \\\n",
        "  --drop_columns 'Id' \\\n",
        "  --visualize"
      ],
      "metadata": {
        "colab": {
          "base_uri": "https://localhost:8080/"
        },
        "id": "RH0xLLcn6xb4",
        "outputId": "79e1b26f-44d5-4dc7-a275-64ccf88d41a4"
      },
      "execution_count": null,
      "outputs": [
        {
          "output_type": "stream",
          "name": "stdout",
          "text": [
            "Figure(600x400)\n",
            "Best Hyperparameters for KNeighborsRegressor:\n",
            "model__algorithm: auto\n",
            "model__n_neighbors: 5\n",
            "model__p: 1\n",
            "model__weights: distance\n",
            "preprocessor__num__imputer__strategy: mean\n",
            "preprocessor__num__scaler__with_mean: True\n",
            "preprocessor__num__scaler__with_std: True\n",
            "Trained model saved to saved_models/KNeighborsRegressor/best_model.pkl\n",
            "\n",
            "KNeighborsRegressor Regression Metrics on Test Set:\n",
            "- RMSE: 34915.8249\n",
            "- R² Score: 0.8411\n",
            "- MAE: 20597.2688\n",
            "- MSE: 1219114827.8316\n",
            "- Training time: 17.7297 seconds\n",
            "\n",
            "Metrics saved to results/KNeighborsRegressor/metrics.csv\n",
            "Figure(800x600)\n",
            "Visualization saved to results/KNeighborsRegressor/actual_vs_predicted.png\n"
          ]
        }
      ]
    },
    {
      "cell_type": "markdown",
      "source": [
        "### Extra Trees Regressor\n",
        "<a id=\"extra-trees-regressor\"></a>"
      ],
      "metadata": {
        "id": "7wDPBaIwCo18"
      }
    },
    {
      "cell_type": "markdown",
      "source": [
        "**Description**:\n",
        "\n",
        "Extra Trees Regressor, or Extremely Randomized Trees, is an ensemble method that builds multiple unpruned decision trees. It selects cut points at random and averages the results to reduce variance.\n",
        "\n",
        "**Key Characteristics**:\n",
        "\n",
        "* **Randomization**: More randomness in splitting points compared to Random Forests.\n",
        "* **Efficiency**: Can be faster to train.\n",
        "* **Variance Reduction**: Aims to reduce overfitting by reducing variance."
      ],
      "metadata": {
        "id": "Z1PAHLc7JkEr"
      }
    },
    {
      "cell_type": "markdown",
      "source": [
        "#### Define the model (optional)"
      ],
      "metadata": {
        "id": "s6dDfWMYM0x0"
      }
    },
    {
      "cell_type": "code",
      "source": [
        "%%writefile models/supervised/regression/extra_trees_regressor.py\n",
        "\n",
        "\"\"\"\n",
        "This module sets up an Extra Trees Regressor with hyperparameter tuning.\n",
        "\n",
        "Features:\n",
        "- Uses `ExtraTreesRegressor` estimator from scikit-learn.\n",
        "- Defines a hyperparameter grid for ensemble parameters.\n",
        "- Similar to Random Forest but uses random thresholds for splitting.\n",
        "\n",
        "Special Considerations:\n",
        "- Not sensitive to feature scaling.\n",
        "- Can handle large datasets efficiently.\n",
        "- Less prone to overfitting compared to single decision trees.\n",
        "\"\"\"\n",
        "\n",
        "from sklearn.ensemble import ExtraTreesRegressor\n",
        "\n",
        "# Define the estimator\n",
        "estimator = ExtraTreesRegressor(random_state=42, n_jobs=-1)\n",
        "\n",
        "# Define the hyperparameter grid\n",
        "param_grid = {\n",
        "    'model__n_estimators': [100, 200],  # Common range for estimators\n",
        "    'model__criterion': ['squared_error'],  # Focus on the most widely used criterion\n",
        "    'model__max_depth': [None, 10, 20],  # Unrestricted depth and reasonable constraints\n",
        "    'model__min_samples_split': [2, 5],  # Commonly used values\n",
        "    'model__min_samples_leaf': [1, 2],  # Prevent overfitting with larger leaves\n",
        "    'model__max_features': ['sqrt', 'log2'],  # Reduce to most common feature sampling strategies\n",
        "    'preprocessor__num__imputer__strategy': ['mean'],  # Single imputation strategy\n",
        "}\n",
        "\n",
        "# Optional: Define the default scoring metric\n",
        "default_scoring = 'neg_root_mean_squared_error'"
      ],
      "metadata": {
        "id": "A0LYS9hrNMGR"
      },
      "execution_count": null,
      "outputs": []
    },
    {
      "cell_type": "markdown",
      "source": [
        "#### Execute the model"
      ],
      "metadata": {
        "id": "wpOlUpx0NMSw"
      }
    },
    {
      "cell_type": "code",
      "source": [
        "# Extra Trees Regressor Command-Line (only necessary arguments)\n",
        "!python scripts/train_regression_model.py \\\n",
        "  --model_module 'extra_trees_regressor' \\\n",
        "  --data_path 'data/raw/house-prices-advanced-regression-techniques/train.csv' \\\n",
        "  --target_variable 'SalePrice' \\\n",
        "  --drop_columns 'Id' \\\n",
        "  --visualize"
      ],
      "metadata": {
        "colab": {
          "base_uri": "https://localhost:8080/"
        },
        "id": "Byo2503n6x04",
        "outputId": "a7465751-d587-40c8-d1ff-f00fe1265ec1"
      },
      "execution_count": null,
      "outputs": [
        {
          "output_type": "stream",
          "name": "stdout",
          "text": [
            "Figure(600x400)\n",
            "Best Hyperparameters for ExtraTreesRegressor:\n",
            "model__criterion: squared_error\n",
            "model__max_depth: None\n",
            "model__max_features: sqrt\n",
            "model__min_samples_leaf: 1\n",
            "model__min_samples_split: 2\n",
            "model__n_estimators: 200\n",
            "preprocessor__num__imputer__strategy: mean\n",
            "Trained model saved to saved_models/ExtraTreesRegressor/best_model.pkl\n",
            "\n",
            "ExtraTreesRegressor Regression Metrics on Test Set:\n",
            "- RMSE: 32439.4455\n",
            "- R² Score: 0.8628\n",
            "- MAE: 18385.4409\n",
            "- MSE: 1052317625.2756\n",
            "- Training time: 97.8613 seconds\n",
            "\n",
            "Metrics saved to results/ExtraTreesRegressor/metrics.csv\n",
            "Figure(800x600)\n",
            "Visualization saved to results/ExtraTreesRegressor/actual_vs_predicted.png\n"
          ]
        }
      ]
    },
    {
      "cell_type": "markdown",
      "source": [
        "### Multilayer Perceptron (MLP) Regressor\n",
        "<a id=\"mlp-regressor\"></a>"
      ],
      "metadata": {
        "id": "-PzR3yUZCpV5"
      }
    },
    {
      "cell_type": "markdown",
      "source": [
        "**Description**:\n",
        "\n",
        "MLP Regressor is a feedforward artificial neural network model that maps sets of input data onto a set of appropriate outputs. It can model complex non-linear relationships.\n",
        "\n",
        "**Key Characteristics**:\n",
        "\n",
        "* **Neural Network**: Consists of input, hidden, and output layers.\n",
        "* **Activation Functions**: Uses non-linear activation functions to capture complex patterns.\n",
        "* **Training**: Requires careful tuning and can be computationally intensive."
      ],
      "metadata": {
        "id": "uKY37GLBJmBq"
      }
    },
    {
      "cell_type": "markdown",
      "source": [
        "#### Define the model (optional)"
      ],
      "metadata": {
        "id": "7BtPcQ0FM1uj"
      }
    },
    {
      "cell_type": "code",
      "source": [
        "%%writefile models/supervised/regression/mlp_regressor.py\n",
        "\n",
        "\"\"\"\n",
        "This module sets up a Multilayer Perceptron Regressor with hyperparameter tuning.\n",
        "\n",
        "Features:\n",
        "- Uses `MLPRegressor` estimator from scikit-learn.\n",
        "- Defines a hyperparameter grid for neural network parameters.\n",
        "- Capable of capturing complex non-linear relationships.\n",
        "\n",
        "Special Considerations:\n",
        "- Feature scaling is crucial for MLP.\n",
        "- May produce convergence warnings; increase `max_iter` to address this.\n",
        "- Can be sensitive to hyperparameter settings; tuning is important.\n",
        "\"\"\"\n",
        "\n",
        "from sklearn.neural_network import MLPRegressor\n",
        "from sklearn.preprocessing import StandardScaler, MinMaxScaler\n",
        "\n",
        "# Define the estimator\n",
        "estimator = MLPRegressor(random_state=42, max_iter=1000)\n",
        "\n",
        "# Define the hyperparameter grid\n",
        "param_grid = {\n",
        "    'model__hidden_layer_sizes': [(50,), (100,), (50, 50)],  # Simplified layer sizes\n",
        "    'model__activation': ['relu'],  # Focused on ReLU, the most commonly effective activation\n",
        "    'model__solver': ['adam'],  # Retain 'adam' for efficiency; drop 'lbfgs' (slower for larger datasets)\n",
        "    'model__alpha': [0.0001, 0.001],  # Regularization strengths\n",
        "    'model__learning_rate': ['constant', 'adaptive'],  # Common learning rate strategies\n",
        "    'preprocessor__num__imputer__strategy': ['mean'],  # Single imputation strategy\n",
        "    'preprocessor__num__scaler__with_mean': [True],  # StandardScaler\n",
        "    'preprocessor__num__scaler__with_std': [True],  # StandardScaler\n",
        "}\n",
        "\n",
        "# Optional: Default scoring metric\n",
        "default_scoring = 'neg_root_mean_squared_error'"
      ],
      "metadata": {
        "id": "54OkZNqiNNWm"
      },
      "execution_count": null,
      "outputs": []
    },
    {
      "cell_type": "markdown",
      "source": [
        "#### Execute the model"
      ],
      "metadata": {
        "id": "jZ4njRlxNNeR"
      }
    },
    {
      "cell_type": "code",
      "source": [
        "# Multilayer Perceptron (MLP) Regressor Command-Line (only necessary arguments)\n",
        "!python scripts/train_regression_model.py \\\n",
        "  --model_module 'mlp_regressor' \\\n",
        "  --data_path 'data/raw/house-prices-advanced-regression-techniques/train.csv' \\\n",
        "  --target_variable 'SalePrice' \\\n",
        "  --drop_columns 'Id' \\\n",
        "  --log_transform \\\n",
        "  --visualize"
      ],
      "metadata": {
        "colab": {
          "base_uri": "https://localhost:8080/"
        },
        "id": "jzozHFxx6yMr",
        "outputId": "96976070-92a7-40dd-de59-e03158836c8a"
      },
      "execution_count": null,
      "outputs": [
        {
          "output_type": "stream",
          "name": "stdout",
          "text": [
            "Figure(600x400)\n",
            "Figure(600x400)\n",
            "Best Hyperparameters for MLPRegressor:\n",
            "model__activation: relu\n",
            "model__alpha: 0.0001\n",
            "model__hidden_layer_sizes: (100,)\n",
            "model__learning_rate: constant\n",
            "model__solver: adam\n",
            "preprocessor__num__imputer__strategy: mean\n",
            "preprocessor__num__scaler__with_mean: True\n",
            "preprocessor__num__scaler__with_std: True\n",
            "Trained model saved to saved_models/MLPRegressor/best_model.pkl\n",
            "\n",
            "MLPRegressor Regression Metrics on Test Set:\n",
            "- RMSE: 28252.4468\n",
            "- R² Score: 0.8959\n",
            "- MAE: 19952.3883\n",
            "- MSE: 798200749.1289\n",
            "- Training time: 66.1769 seconds\n",
            "\n",
            "Metrics saved to results/MLPRegressor/metrics.csv\n",
            "Figure(800x600)\n",
            "Visualization saved to results/MLPRegressor/actual_vs_predicted.png\n"
          ]
        }
      ]
    },
    {
      "cell_type": "markdown",
      "source": [
        "##   \n",
        "\n",
        "**Congratulations**! You've successfully run various regression models and created an interactive interface using Gradio. This \"Simple Use\" section allows you to quickly experiment with different algorithms and get immediate results.\n",
        "\n",
        "**Next Steps**\n",
        "\n",
        "In the next section, [Code Breakdown](#code-breakdown), we’ll break down the complete workflow, including downloading data, hyperparameter tuning, training regression algorithms, and saving metrics and visualizations. This in-depth exploration will provide clarity on each step, helping you better understand the underlying processes."
      ],
      "metadata": {
        "id": "jhC6UGJcDtMy"
      }
    },
    {
      "cell_type": "markdown",
      "source": [
        "# 3. Code Breakdown (self-contained section)\n",
        "<a id=\"code-breakdown\"></a>"
      ],
      "metadata": {
        "id": "FeYrwKKkDzRe"
      }
    },
    {
      "cell_type": "markdown",
      "source": [
        "In this section, we will provide a detailed breakdown of the entire workflow for training regression models. Each subsection delves into specific components of the process, starting from downloading the dataset to implementing hyperparameter tuning and training the models. Additionally, we will explore the Gradio interface setup for an interactive user experience. By the end of this section, you'll gain a comprehensive understanding of the code and its functionality, enabling you to customize and extend the pipeline as needed."
      ],
      "metadata": {
        "id": "7BWxnYddVKsG"
      }
    },
    {
      "cell_type": "markdown",
      "source": [
        "## 3.1 Setting Up the Dataset\n",
        "<a id=\"setup-dataset\"></a>"
      ],
      "metadata": {
        "id": "k6rS0_QuATZ3"
      }
    },
    {
      "cell_type": "markdown",
      "source": [
        "In this section, we'll download a Kaggle dataset directly in Colab, step by step, without using complex functions. This approach ensures the process is straightforward and accessible for beginners. If you already have an existing dataset, you can skip the download steps and directly set the ```training_data_path``` variable to the path of your dataset file. This variable will be used in later sections."
      ],
      "metadata": {
        "id": "9B-teugF-zQF"
      }
    },
    {
      "cell_type": "code",
      "source": [
        "# Define the training data file path (user-defined or generated by download)\n",
        "training_data_path = None\n",
        "\n",
        "# If you have an existing dataset, set the file path here (skip to the next section):\n",
        "# Example: training_data_path = \"/path/to/your/dataset/train.csv\"\n",
        "# Uncomment and set manually if skipping download:\n",
        "# training_data_path = \"/content/data/raw/my_existing_dataset/train.csv\""
      ],
      "metadata": {
        "id": "QrivGaLk--CS"
      },
      "execution_count": null,
      "outputs": []
    },
    {
      "cell_type": "markdown",
      "source": [
        "### Step 1: Install the Kaggle API"
      ],
      "metadata": {
        "id": "7KUemIUwM9h9"
      }
    },
    {
      "cell_type": "markdown",
      "source": [
        "First, we install the `Kaggle API`, which allows us to interact with Kaggle datasets."
      ],
      "metadata": {
        "id": "81N9rqsONE6K"
      }
    },
    {
      "cell_type": "code",
      "source": [
        "# Install Kaggle API to enable downloading datasets\n",
        "!pip install kaggle -q"
      ],
      "metadata": {
        "id": "HJ2n23GdNH4y"
      },
      "execution_count": null,
      "outputs": []
    },
    {
      "cell_type": "markdown",
      "source": [
        "### Step 2: Define the Hyperparameters for the Dataset Download"
      ],
      "metadata": {
        "id": "jzL2aVWW_Oes"
      }
    },
    {
      "cell_type": "markdown",
      "source": [
        "Below, we define the required parameters for downloading a Kaggle dataset. These parameters will guide the download process."
      ],
      "metadata": {
        "id": "wnQiu9eO_ffm"
      }
    },
    {
      "cell_type": "code",
      "source": [
        "# Path to your Kaggle JSON file\n",
        "kaggle_json_path = \"/content/kaggle.json\"  # Replace with your file path\n",
        "\n",
        "# Kaggle competition or dataset name\n",
        "is_competition = True # Competition or no\n",
        "data_name = \"house-prices-advanced-regression-techniques\"  # Replace with your Kaggle dataset or competition name\n",
        "\n",
        "# Folder where the data will be saved\n",
        "output_dir = \"data/raw\"  # Adjust the output folder if needed"
      ],
      "metadata": {
        "id": "lapBWkpk92Ok"
      },
      "execution_count": null,
      "outputs": []
    },
    {
      "cell_type": "markdown",
      "source": [
        "### Step 3: Configure Kaggle API Credentials"
      ],
      "metadata": {
        "id": "Qeim77P6E1Dz"
      }
    },
    {
      "cell_type": "markdown",
      "source": [
        "Kaggle requires an API key stored in a `kaggle.json` file. Below, we set up this file in the correct location for Colab."
      ],
      "metadata": {
        "id": "IY33Ql6WE8qk"
      }
    },
    {
      "cell_type": "code",
      "source": [
        "import os\n",
        "import shutil\n",
        "\n",
        "try:\n",
        "    # Create the Kaggle API configuration folder in Colab\n",
        "    config_dir = \"/root/.config/kaggle\"\n",
        "    os.makedirs(config_dir, exist_ok=True)\n",
        "\n",
        "    # Copy your Kaggle JSON file to the Colab configuration folder\n",
        "    shutil.copy(kaggle_json_path, os.path.join(config_dir, \"kaggle.json\"))\n",
        "\n",
        "    # Set appropriate permissions for the Kaggle JSON file\n",
        "    os.chmod(os.path.join(config_dir, \"kaggle.json\"), 0o600)\n",
        "\n",
        "    print(\"Kaggle API credentials have been set up.\")\n",
        "except Exception as e:\n",
        "    raise OSError(f\"Could not set up Kaggle API credentials: {e}\")"
      ],
      "metadata": {
        "colab": {
          "base_uri": "https://localhost:8080/"
        },
        "id": "H28Fs-HI929k",
        "outputId": "1695989d-2f11-4a86-fc0c-58e69ce894c0"
      },
      "execution_count": null,
      "outputs": [
        {
          "output_type": "stream",
          "name": "stdout",
          "text": [
            "Kaggle API credentials have been set up.\n"
          ]
        }
      ]
    },
    {
      "cell_type": "markdown",
      "source": [
        "### Step 4: Download the Dataset"
      ],
      "metadata": {
        "id": "q3qsB3X2FCou"
      }
    },
    {
      "cell_type": "markdown",
      "source": [
        "Use the Kaggle API to download the dataset. This command retrieves all the files associated with the specified competition or dataset."
      ],
      "metadata": {
        "id": "NlOO1ST2FGLX"
      }
    },
    {
      "cell_type": "code",
      "source": [
        "# Create the dataset directory\n",
        "dataset_dir = os.path.join(output_dir, data_name.split('/')[-1])\n",
        "os.makedirs(dataset_dir, exist_ok=True)\n",
        "\n",
        "# Change to the output directory and save the original directory\n",
        "original_dir = os.getcwd()\n",
        "os.chdir(dataset_dir)\n",
        "\n",
        "# Download the Kaggle dataset or competition files\n",
        "try:\n",
        "    # Check if it's a competition or no\n",
        "    if is_competition:\n",
        "        print(f\"Downloading competition data: {data_name}\")\n",
        "        cmd = f\"kaggle competitions download -c {data_name}\"\n",
        "    else:\n",
        "        print(f\"Downloading dataset: {data_name}\")\n",
        "        cmd = f\"kaggle datasets download -d {data_name}\"\n",
        "    os.system(cmd)\n",
        "except Exception as e:\n",
        "    print(f\"Error during download: {e}\")\n",
        "finally:\n",
        "    # Return to the original directory\n",
        "    os.chdir(original_dir)"
      ],
      "metadata": {
        "colab": {
          "base_uri": "https://localhost:8080/"
        },
        "id": "JcicL7poF6Wd",
        "outputId": "3fe8f569-ab75-415b-fe85-bdb1cdfb0ecb"
      },
      "execution_count": null,
      "outputs": [
        {
          "output_type": "stream",
          "name": "stdout",
          "text": [
            "Downloading competition data: house-prices-advanced-regression-techniques\n"
          ]
        }
      ]
    },
    {
      "cell_type": "markdown",
      "source": [
        "### Step 5: Extract the Dataset"
      ],
      "metadata": {
        "id": "UNdwpf90IFX-"
      }
    },
    {
      "cell_type": "markdown",
      "source": [
        "After downloading the dataset, extract all the `.zip` files in the output directory."
      ],
      "metadata": {
        "id": "wVDZVP0eILNo"
      }
    },
    {
      "cell_type": "code",
      "source": [
        "import zipfile\n",
        "\n",
        "# Navigate to the output directory\n",
        "os.chdir(dataset_dir)\n",
        "\n",
        "# Get all zip files\n",
        "zip_files = [f for f in os.listdir() if f.endswith(\".zip\")]\n",
        "\n",
        "# Check the existence of the zip files in the folder\n",
        "if not zip_files:\n",
        "    print(\"No zip files found. Please check the dataset or competition name.\")\n",
        "    os.chdir(original_dir)\n",
        "\n",
        "# Extract all ZIP files in the folder\n",
        "for zip_file in zip_files:\n",
        "    try:\n",
        "        with zipfile.ZipFile(zip_file, \"r\") as zip_ref:\n",
        "            zip_ref.extractall()  # Extract all files\n",
        "        print(f\"Extracting: {zip_file}...\")\n",
        "        os.remove(zip_file)  # Remove the zip file after extraction\n",
        "    except Exception as e:\n",
        "        print(f\"Error extracting {zip_file}: {e}\")\n",
        "\n",
        "# Navigate back to the original directory\n",
        "os.chdir(original_dir)\n",
        "\n",
        "print(f\"Dataset has been extracted and saved to: {output_dir}\")"
      ],
      "metadata": {
        "colab": {
          "base_uri": "https://localhost:8080/"
        },
        "id": "cSn3zAQc-Agw",
        "outputId": "e70d08fd-a8f5-4bb6-d1fc-3ae819649953"
      },
      "execution_count": null,
      "outputs": [
        {
          "output_type": "stream",
          "name": "stdout",
          "text": [
            "Extracting: house-prices-advanced-regression-techniques.zip...\n",
            "Dataset has been extracted and saved to: data/raw\n"
          ]
        }
      ]
    },
    {
      "cell_type": "markdown",
      "source": [
        "### Step 6: Verify the Dataset"
      ],
      "metadata": {
        "id": "HGW-DN6DJf0y"
      }
    },
    {
      "cell_type": "markdown",
      "source": [
        "After extraction, verify the contents of the dataset directory to ensure everything is in place."
      ],
      "metadata": {
        "id": "v_m461DBJi2O"
      }
    },
    {
      "cell_type": "code",
      "source": [
        "# List all files in the output directory\n",
        "for root, dirs, files in os.walk(dataset_dir):\n",
        "    for file in files:\n",
        "        print(os.path.join(root, file))"
      ],
      "metadata": {
        "colab": {
          "base_uri": "https://localhost:8080/"
        },
        "id": "0Emgsf5a-HYp",
        "outputId": "dee32f01-114b-4386-d1fc-d8995d2863b0"
      },
      "execution_count": null,
      "outputs": [
        {
          "output_type": "stream",
          "name": "stdout",
          "text": [
            "data/raw/house-prices-advanced-regression-techniques/sample_submission.csv\n",
            "data/raw/house-prices-advanced-regression-techniques/data_description.txt\n",
            "data/raw/house-prices-advanced-regression-techniques/train.csv\n",
            "data/raw/house-prices-advanced-regression-techniques/test.csv\n"
          ]
        }
      ]
    },
    {
      "cell_type": "markdown",
      "source": [
        "### Step 7: Specify the Path to the Training Data"
      ],
      "metadata": {
        "id": "bnum8j0mJzYb"
      }
    },
    {
      "cell_type": "markdown",
      "source": [
        "In this step, we define the path to the training data file within the downloaded dataset. This ensures the training process can directly access the required data."
      ],
      "metadata": {
        "id": "AX5mS6GtLSPz"
      }
    },
    {
      "cell_type": "code",
      "source": [
        "# Specify the path to the training data file\n",
        "train_file_name = \"train.csv\"\n",
        "training_data_path = os.path.join(dataset_dir, train_file_name)\n",
        "\n",
        "print(f\"Training data path set to: {training_data_path}\")"
      ],
      "metadata": {
        "colab": {
          "base_uri": "https://localhost:8080/"
        },
        "id": "3KfvVuOOKtLz",
        "outputId": "909afbf5-326d-4c80-c9a0-892ac87993f3"
      },
      "execution_count": null,
      "outputs": [
        {
          "output_type": "stream",
          "name": "stdout",
          "text": [
            "Training data path set to: data/raw/house-prices-advanced-regression-techniques/train.csv\n"
          ]
        }
      ]
    },
    {
      "cell_type": "markdown",
      "source": [
        "## 3.2 Hyperparameter Tuning and Model Training\n",
        "<a id=\"model_training\"></a>"
      ],
      "metadata": {
        "id": "RBc8_xDuTXaV"
      }
    },
    {
      "cell_type": "markdown",
      "source": [
        "### Step 0: Installing Required Packages"
      ],
      "metadata": {
        "id": "VYy9dJ28Tt3J"
      }
    },
    {
      "cell_type": "markdown",
      "source": [
        "First, we ensure that all the necessary libraries are installed. We will do this to minimize any missing dependency issues later on."
      ],
      "metadata": {
        "id": "8meFNeP8h0-k"
      }
    },
    {
      "cell_type": "code",
      "source": [
        "# Install required packages quietly to minimize output\n",
        "!pip install -q pandas==2.2.2 numpy==1.26.4 matplotlib==3.8.0 seaborn==0.13.2 \\\n",
        "kaggle==1.6.17 scikit-learn==1.5.2 catboost==1.2.7 dask[dataframe]==2024.10.0 \\\n",
        "xgboost==2.1.2 lightgbm==4.5.0 joblib==1.4.2 gradio==5.7.1\n",
        "print(\"✅ Installation completed. All required libraries are installed.\") # Print a confirmation message"
      ],
      "metadata": {
        "colab": {
          "base_uri": "https://localhost:8080/"
        },
        "id": "aavMo-JliG-6",
        "outputId": "e087c341-9294-4d60-bc35-2433dad4b65e"
      },
      "execution_count": null,
      "outputs": [
        {
          "output_type": "stream",
          "name": "stdout",
          "text": [
            "✅ Installation completed. All required libraries are installed.\n"
          ]
        }
      ]
    },
    {
      "cell_type": "markdown",
      "source": [
        "### Step 1: Importing Core Libraries and Setting Initial Parameters"
      ],
      "metadata": {
        "id": "VrKtxekTiNpE"
      }
    },
    {
      "cell_type": "markdown",
      "source": [
        "Now we import the core Python libraries needed for data handling, visualization, and model training. We also set initial parameters related to the modeling process, such as the target variable name, test size, random state, and other configurations.\n",
        "\n",
        "**Key Points:**\n",
        "- `TARGET_VARIABLE`: The column we aim to predict.\n",
        "- `TEST_SIZE`: The ratio of data used for testing.\n",
        "- `RANDOM_STATE`: Seed for reproducibility.\n",
        "- `LOG_TRANSFORM`: Whether we apply log transformation to the target variable.\n",
        "- `CV_FOLDS`: Number of cross-validation folds.\n",
        "- `SCORING_METRIC`: Metric to evaluate model performance.\n",
        "- `MODEL_PATH` and `RESULTS_PATH`: Where to save model artifacts and results.\n",
        "- `DROP_COLUMN_NAMES`: Columns to drop from the dataset."
      ],
      "metadata": {
        "id": "puFog-VbiUUO"
      }
    },
    {
      "cell_type": "code",
      "source": [
        "import os\n",
        "import sys\n",
        "import pandas as pd\n",
        "import numpy as np\n",
        "import matplotlib.pyplot as plt\n",
        "import seaborn as sns\n",
        "from timeit import default_timer as timer\n",
        "\n",
        "# Parameters\n",
        "TARGET_VARIABLE = 'SalePrice'\n",
        "TEST_SIZE = 0.2\n",
        "RANDOM_STATE = 42\n",
        "LOG_TRANSFORM = True\n",
        "CV_FOLDS = 5\n",
        "SCORING_METRIC = 'neg_root_mean_squared_error'\n",
        "MODEL_PATH = 'saved_models'\n",
        "RESULTS_PATH = 'results'\n",
        "DROP_COLUMN_NAMES = ['Id']\n",
        "\n",
        "# Ensure directories exist\n",
        "os.makedirs(MODEL_PATH, exist_ok=True)\n",
        "os.makedirs(RESULTS_PATH, exist_ok=True)\n",
        "\n",
        "print(\"Core libraries imported and parameters set.\")"
      ],
      "metadata": {
        "colab": {
          "base_uri": "https://localhost:8080/"
        },
        "id": "VqUfq5F1irK7",
        "outputId": "d97eb515-faf4-4de4-b659-4d7a3e3b7d0b"
      },
      "execution_count": null,
      "outputs": [
        {
          "output_type": "stream",
          "name": "stdout",
          "text": [
            "Core libraries imported and parameters set.\n"
          ]
        }
      ]
    },
    {
      "cell_type": "markdown",
      "source": [
        "### Step 2: Defining the Model (Estimator and Parameters Grid)"
      ],
      "metadata": {
        "id": "CdEA5LPwlUse"
      }
    },
    {
      "cell_type": "markdown",
      "source": [
        "In this step, we select the estimator we want to train (e.g., `LinearRegression`) and define a parameter grid that `GridSearchCV` will use for hyperparameter tuning. We will also set the `MODEL_NAME` for clarity."
      ],
      "metadata": {
        "id": "G07nFFo0lWdo"
      }
    },
    {
      "cell_type": "code",
      "source": [
        "from sklearn.linear_model import LinearRegression\n",
        "\n",
        "# Define the estimator (e.g., LinearRegression)\n",
        "ESTIMATOR = LinearRegression()\n",
        "\n",
        "# Define the hyperparameter grid for the chosen model and preprocessing steps\n",
        "PARAM_GRID = {\n",
        "    'model__fit_intercept': [True, False],\n",
        "    'preprocessor__num__imputer__strategy': ['mean', 'median'],\n",
        "    'preprocessor__num__scaler__with_mean': [True, False],\n",
        "    'preprocessor__num__scaler__with_std': [True, False],\n",
        "}\n",
        "\n",
        "# Derive the model name from the estimator class\n",
        "MODEL_NAME = ESTIMATOR.__class__.__name__\n",
        "\n",
        "print(f\"Estimator set to {MODEL_NAME} and PARAM_GRID defined.\")"
      ],
      "metadata": {
        "colab": {
          "base_uri": "https://localhost:8080/"
        },
        "id": "hUZGQDH5ldN3",
        "outputId": "c58d7f2f-798e-4d0d-a3d6-8d813c215b72"
      },
      "execution_count": null,
      "outputs": [
        {
          "output_type": "stream",
          "name": "stdout",
          "text": [
            "Estimator set to LinearRegression and PARAM_GRID defined.\n"
          ]
        }
      ]
    },
    {
      "cell_type": "markdown",
      "source": [
        "### Step 3: Loading and Preparing the Dataset"
      ],
      "metadata": {
        "id": "bCJ8kLLFizn_"
      }
    },
    {
      "cell_type": "markdown",
      "source": [
        "We assume that the dataset has already been downloaded in Section 3.1 and that we have a variable `training_data_path` pointing to the training CSV file (e.g., `data/house-prices-advanced-regression-techniques/train.csv`).\n",
        "\n",
        "Steps:\n",
        "- Load the dataset into a DataFrame.\n",
        "- Drop any unnecessary columns (like 'Id').\n",
        "- Separate features (X) and target (y).\n",
        "- Verify that the target is numeric (necessary for regression tasks)."
      ],
      "metadata": {
        "id": "s0VfM6iKi08I"
      }
    },
    {
      "cell_type": "code",
      "source": [
        "# Assume training_data_path is defined in previous steps or sections (like in 3.1)\n",
        "# For example:\n",
        "# training_data_path = 'data/house-prices-advanced-regression-techniques/train.csv'\n",
        "\n",
        "df = pd.read_csv(training_data_path)\n",
        "\n",
        "# Drop unnecessary columns\n",
        "if DROP_COLUMN_NAMES != \"\":\n",
        "    df = df.drop(columns=DROP_COLUMN_NAMES)\n",
        "\n",
        "X = df.drop(columns=[TARGET_VARIABLE])\n",
        "y = df[TARGET_VARIABLE]\n",
        "\n",
        "if not np.issubdtype(y.dtype, np.number):\n",
        "    raise ValueError(f\"The target variable '{TARGET_VARIABLE}' must be numeric for regression tasks.\")\n",
        "\n",
        "print(f\"Data loaded successfully. X shape: {X.shape}, y shape: {y.shape}\")"
      ],
      "metadata": {
        "colab": {
          "base_uri": "https://localhost:8080/"
        },
        "id": "pXWjKFCZi7d6",
        "outputId": "8f95146e-84b7-4e4d-b352-4689f9e8bf60"
      },
      "execution_count": null,
      "outputs": [
        {
          "output_type": "stream",
          "name": "stdout",
          "text": [
            "Data loaded successfully. X shape: (1460, 79), y shape: (1460,)\n"
          ]
        }
      ]
    },
    {
      "cell_type": "markdown",
      "source": [
        "### Step 4: Splitting the Data into Training and Test Sets"
      ],
      "metadata": {
        "id": "Nlz3HPbfjF4s"
      }
    },
    {
      "cell_type": "markdown",
      "source": [
        "We split the dataset so that we have a training set (for model fitting and hyperparameter tuning) and a test set (for final evaluation)."
      ],
      "metadata": {
        "id": "29G-iMK1jIpp"
      }
    },
    {
      "cell_type": "code",
      "source": [
        "from sklearn.model_selection import train_test_split\n",
        "\n",
        "X_train, X_test, y_train, y_test = train_test_split(X, y, test_size=TEST_SIZE, random_state=RANDOM_STATE)\n",
        "print(\"Data split into training and test sets.\")\n",
        "print(f\"X_train: {X_train.shape}, y_train: {y_train.shape}\")\n",
        "print(f\"X_test: {X_test.shape}, y_test: {y_test.shape}\")"
      ],
      "metadata": {
        "colab": {
          "base_uri": "https://localhost:8080/"
        },
        "id": "7yk84LENjL--",
        "outputId": "83e1902d-1454-4506-e17c-0275445a1123"
      },
      "execution_count": null,
      "outputs": [
        {
          "output_type": "stream",
          "name": "stdout",
          "text": [
            "Data split into training and test sets.\n",
            "X_train: (1168, 79), y_train: (1168,)\n",
            "X_test: (292, 79), y_test: (292,)\n"
          ]
        }
      ]
    },
    {
      "cell_type": "markdown",
      "source": [
        "### Step 5: Visualizing and Transforming the Target Variable (optional)"
      ],
      "metadata": {
        "id": "zJkZ7ZWxjOkQ"
      }
    },
    {
      "cell_type": "markdown",
      "source": [
        "- We visualize the distribution of the target variable before transformation.\n",
        "- If `LOG_TRANSFORM` is True, we apply `np.log1p` to reduce skewness and then visualize the transformed distribution."
      ],
      "metadata": {
        "id": "_nU1LXw5jRpo"
      }
    },
    {
      "cell_type": "code",
      "source": [
        "# Visualize before transformation\n",
        "plt.figure(figsize=(6,4))\n",
        "sns.histplot(y_train, kde=True)\n",
        "plt.title(f'{TARGET_VARIABLE} Distribution Before Transformation')\n",
        "os.makedirs(RESULTS_PATH, exist_ok=True)\n",
        "plt.savefig(os.path.join(RESULTS_PATH, 'target_distribution_before.png'))\n",
        "plt.show()\n",
        "\n",
        "if LOG_TRANSFORM:\n",
        "    y_train_transformed = np.log1p(y_train)\n",
        "    y_test_transformed = np.log1p(y_test)\n",
        "\n",
        "    plt.figure(figsize=(6,4))\n",
        "    sns.histplot(y_train_transformed, kde=True, color='green')\n",
        "    plt.title(f'{TARGET_VARIABLE} Distribution After Log Transform')\n",
        "    plt.savefig(os.path.join(RESULTS_PATH, 'target_distribution_after.png'))\n",
        "    plt.show()\n",
        "else:\n",
        "    y_train_transformed = y_train\n",
        "    y_test_transformed = y_test\n",
        "\n",
        "print(\"Target variable transformed (if LOG_TRANSFORM is True).\")"
      ],
      "metadata": {
        "colab": {
          "base_uri": "https://localhost:8080/",
          "height": 820
        },
        "id": "16ytXYtajZng",
        "outputId": "ae99e368-b002-4eac-abb6-4d67c1d80c4f"
      },
      "execution_count": null,
      "outputs": [
        {
          "output_type": "display_data",
          "data": {
            "text/plain": [
              "<Figure size 600x400 with 1 Axes>"
            ],
            "image/png": "[encoded data removed]"
          },
          "metadata": {}
        },
        {
          "output_type": "display_data",
          "data": {
            "text/plain": [
              "<Figure size 600x400 with 1 Axes>"
            ],
            "image/png": "[encoded data removed]"
          },
          "metadata": {}
        },
        {
          "output_type": "stream",
          "name": "stdout",
          "text": [
            "Target variable transformed (if LOG_TRANSFORM is True).\n"
          ]
        }
      ]
    },
    {
      "cell_type": "markdown",
      "source": [
        "### Step 6: Hyperparameter Tuning Setup"
      ],
      "metadata": {
        "id": "XIIsh7b8jeYw"
      }
    },
    {
      "cell_type": "markdown",
      "source": [
        "To tune hyperparameters, we need to:\n",
        "- Identify numerical and categorical features.\n",
        "- Define preprocessing pipelines.\n",
        "- Create a pipeline that first preprocesses data and then fits the estimator.\n",
        "- Use a parameter grid to search over possible hyperparameters.\n",
        "- Use cross-validation (CV) to evaluate combinations.\n",
        "\n",
        "We'll work with a **LinearRegression** model as example and a predefined `PARAM_GRID` for it."
      ],
      "metadata": {
        "id": "edSfbhejjhuZ"
      }
    },
    {
      "cell_type": "code",
      "source": [
        "from sklearn.compose import ColumnTransformer\n",
        "from sklearn.impute import SimpleImputer\n",
        "from sklearn.pipeline import Pipeline\n",
        "from sklearn.preprocessing import OneHotEncoder, StandardScaler\n",
        "from sklearn.model_selection import GridSearchCV, KFold\n",
        "\n",
        "# Identify numerical and categorical columns\n",
        "numerical_cols = X_train.select_dtypes(include=['int64', 'float64']).columns.tolist()\n",
        "categorical_cols = X_train.select_dtypes(include=['object', 'category']).columns.tolist()\n",
        "\n",
        "print(\"Numerical columns:\", numerical_cols)\n",
        "print(\"Categorical columns:\", categorical_cols)\n",
        "\n",
        "# Preprocessing for numerical data\n",
        "numerical_transformer = Pipeline(steps=[\n",
        "    ('imputer', SimpleImputer()),    # Strategy defined in param_grid\n",
        "    ('scaler', StandardScaler())     # Mean/Std scaling also toggled by param_grid\n",
        "])\n",
        "\n",
        "# Preprocessing for categorical data\n",
        "if MODEL_NAME in [\n",
        "        'DecisionTreeRegressor', 'RandomForestRegressor', 'ExtraTreesRegressor',\n",
        "        'GradientBoostingRegressor', 'XGBRegressor', 'LGBMRegressor', 'CatBoostRegressor'\n",
        "    ]:\n",
        "    # Use Ordinal Encoding for tree-based models\n",
        "    categorical_transformer = Pipeline(steps=[\n",
        "        ('imputer', SimpleImputer(strategy='constant', fill_value='Missing')),\n",
        "        ('ordinal_encoder', OrdinalEncoder(handle_unknown='use_encoded_value', unknown_value=-1))\n",
        "    ])\n",
        "else:\n",
        "    # Use OneHotEncoder for other models\n",
        "    categorical_transformer = Pipeline(steps=[\n",
        "        ('imputer', SimpleImputer(strategy='constant', fill_value='Missing')),\n",
        "        ('onehot', OneHotEncoder(handle_unknown='ignore', sparse_output=False))\n",
        "    ])\n",
        "\n",
        "# Combine preprocessing\n",
        "preprocessor = ColumnTransformer(transformers=[\n",
        "    ('num', numerical_transformer, numerical_cols),\n",
        "    ('cat', categorical_transformer, categorical_cols)\n",
        "])\n",
        "\n",
        "print(\"Preprocessing pipeline defined.\")"
      ],
      "metadata": {
        "colab": {
          "base_uri": "https://localhost:8080/"
        },
        "id": "wnqG3AibjqrP",
        "outputId": "11644c42-5ede-48bd-e0fc-341a7f1b250c"
      },
      "execution_count": null,
      "outputs": [
        {
          "output_type": "stream",
          "name": "stdout",
          "text": [
            "Numerical columns: ['MSSubClass', 'LotFrontage', 'LotArea', 'OverallQual', 'OverallCond', 'YearBuilt', 'YearRemodAdd', 'MasVnrArea', 'BsmtFinSF1', 'BsmtFinSF2', 'BsmtUnfSF', 'TotalBsmtSF', '1stFlrSF', '2ndFlrSF', 'LowQualFinSF', 'GrLivArea', 'BsmtFullBath', 'BsmtHalfBath', 'FullBath', 'HalfBath', 'BedroomAbvGr', 'KitchenAbvGr', 'TotRmsAbvGrd', 'Fireplaces', 'GarageYrBlt', 'GarageCars', 'GarageArea', 'WoodDeckSF', 'OpenPorchSF', 'EnclosedPorch', '3SsnPorch', 'ScreenPorch', 'PoolArea', 'MiscVal', 'MoSold', 'YrSold']\n",
            "Categorical columns: ['MSZoning', 'Street', 'Alley', 'LotShape', 'LandContour', 'Utilities', 'LotConfig', 'LandSlope', 'Neighborhood', 'Condition1', 'Condition2', 'BldgType', 'HouseStyle', 'RoofStyle', 'RoofMatl', 'Exterior1st', 'Exterior2nd', 'MasVnrType', 'ExterQual', 'ExterCond', 'Foundation', 'BsmtQual', 'BsmtCond', 'BsmtExposure', 'BsmtFinType1', 'BsmtFinType2', 'Heating', 'HeatingQC', 'CentralAir', 'Electrical', 'KitchenQual', 'Functional', 'FireplaceQu', 'GarageType', 'GarageFinish', 'GarageQual', 'GarageCond', 'PavedDrive', 'PoolQC', 'Fence', 'MiscFeature', 'SaleType', 'SaleCondition']\n",
            "Preprocessing pipeline defined.\n"
          ]
        }
      ]
    },
    {
      "cell_type": "markdown",
      "source": [
        "### Step 7: Creating the Pipeline and Running Hyperparameter Tuning"
      ],
      "metadata": {
        "id": "d7mgX5ySj_c-"
      }
    },
    {
      "cell_type": "markdown",
      "source": [
        "We will:\n",
        "- Create a pipeline that includes preprocessing and the estimator.\n",
        "- Run `GridSearchCV` with the parameter grid, cross-validation folds, and the chosen scoring metric.\n",
        "- Measure the time taken for hyperparameter tuning."
      ],
      "metadata": {
        "id": "h4JitbgbkCU2"
      }
    },
    {
      "cell_type": "code",
      "source": [
        "# Create the pipeline with preprocessor and estimator\n",
        "pipeline = Pipeline(steps=[\n",
        "    ('preprocessor', preprocessor),\n",
        "    ('model', ESTIMATOR)\n",
        "])\n",
        "\n",
        "# Define cross-validation strategy\n",
        "if isinstance(CV_FOLDS, int):\n",
        "    CV_FOLDS = KFold(n_splits=CV_FOLDS, shuffle=True, random_state=RANDOM_STATE)\n",
        "\n",
        "grid_search = GridSearchCV(\n",
        "    estimator=pipeline,\n",
        "    param_grid=PARAM_GRID,\n",
        "    cv=CV_FOLDS,\n",
        "    scoring=SCORING_METRIC,\n",
        "    n_jobs=-1\n",
        ")\n",
        "\n",
        "# Time the training\n",
        "start_time = timer()\n",
        "grid_search.fit(X_train, y_train_transformed)\n",
        "end_time = timer()\n",
        "train_time = end_time - start_time\n",
        "\n",
        "best_model = grid_search.best_estimator_\n",
        "best_params = grid_search.best_params_\n",
        "\n",
        "print(f\"Best Hyperparameters for {ESTIMATOR.__class__.__name__}:\")\n",
        "for param_name in sorted(best_params.keys()):\n",
        "    print(f\"{param_name}: {best_params[param_name]}\")\n",
        "\n",
        "print(f\"Hyperparameter tuning completed in {train_time:.2f} seconds.\")"
      ],
      "metadata": {
        "colab": {
          "base_uri": "https://localhost:8080/"
        },
        "id": "frMc-h7ykEXI",
        "outputId": "749e5d39-7ddf-437d-9ee9-e3a517796e49"
      },
      "execution_count": null,
      "outputs": [
        {
          "output_type": "stream",
          "name": "stdout",
          "text": [
            "Best Hyperparameters for LinearRegression:\n",
            "model__fit_intercept: True\n",
            "preprocessor__num__imputer__strategy: mean\n",
            "preprocessor__num__scaler__with_mean: False\n",
            "preprocessor__num__scaler__with_std: False\n",
            "Hyperparameter tuning completed in 19.03 seconds.\n"
          ]
        }
      ]
    },
    {
      "cell_type": "markdown",
      "source": [
        "### Step 8: Model Evaluation"
      ],
      "metadata": {
        "id": "yVPt5wJ7kkNy"
      }
    },
    {
      "cell_type": "markdown",
      "source": [
        "With the best model found, we evaluate it on the test set:\n",
        "- Predict on `X_test`.\n",
        "- Reverse any log transformation if applied.\n",
        "- Calculate metrics: RMSE, R², MAE, MSE.\n",
        "- Print and save these metrics."
      ],
      "metadata": {
        "id": "Fu_0_XiwknKQ"
      }
    },
    {
      "cell_type": "code",
      "source": [
        "from sklearn.metrics import root_mean_squared_error, mean_squared_error, mean_absolute_error, r2_score\n",
        "\n",
        "# Predict on test set\n",
        "y_pred_transformed = best_model.predict(X_test)\n",
        "\n",
        "if LOG_TRANSFORM:\n",
        "    y_pred = np.expm1(y_pred_transformed)\n",
        "    y_test_actual = np.expm1(y_test_transformed)\n",
        "else:\n",
        "    y_pred = y_pred_transformed\n",
        "    y_test_actual = y_test_transformed\n",
        "\n",
        "rmse = root_mean_squared_error(y_test_actual, y_pred)\n",
        "r2 = r2_score(y_test_actual, y_pred)\n",
        "mae = mean_absolute_error(y_test_actual, y_pred)\n",
        "mse = mean_squared_error(y_test_actual, y_pred)\n",
        "\n",
        "print(f\"\\n{ESTIMATOR.__class__.__name__} Regression Metrics on Test Set:\")\n",
        "print(f\"- RMSE: {rmse:.4f}\")\n",
        "print(f\"- R² Score: {r2:.4f}\")\n",
        "print(f\"- MAE: {mae:.4f}\")\n",
        "print(f\"- MSE: {mse:.4f}\")\n",
        "\n",
        "metrics = {'RMSE': [rmse], 'R2': [r2], 'MAE': [mae], 'MSE': [mse], 'train_time': [train_time]}\n",
        "results_df = pd.DataFrame(metrics)\n",
        "results_df.to_csv(os.path.join(RESULTS_PATH, 'metrics.csv'), index=False)\n",
        "print(f\"\\nMetrics saved to {os.path.join(RESULTS_PATH, 'metrics.csv')}\")"
      ],
      "metadata": {
        "colab": {
          "base_uri": "https://localhost:8080/"
        },
        "id": "QZjB-TDwkpB_",
        "outputId": "31210a67-5f4d-43cf-943b-d42d4d112bf7"
      },
      "execution_count": null,
      "outputs": [
        {
          "output_type": "stream",
          "name": "stdout",
          "text": [
            "\n",
            "LinearRegression Regression Metrics on Test Set:\n",
            "- RMSE: 22902.8785\n",
            "- R² Score: 0.9316\n",
            "- MAE: 15066.3159\n",
            "- MSE: 524541845.8190\n",
            "\n",
            "Metrics saved to results/metrics.csv\n"
          ]
        }
      ]
    },
    {
      "cell_type": "markdown",
      "source": [
        "### Step 9: Visualization and Saving the Model"
      ],
      "metadata": {
        "id": "CQpgZ5q4ky1P"
      }
    },
    {
      "cell_type": "markdown",
      "source": [
        "- Plot Actual vs. Predicted values to visualize how well the model performs.\n",
        "- Save the trained model using `joblib` for future use without re-training."
      ],
      "metadata": {
        "id": "EDKLKRenk2SF"
      }
    },
    {
      "cell_type": "code",
      "source": [
        "import joblib\n",
        "\n",
        "# Plot Actual vs Predicted\n",
        "plt.figure(figsize=(8,6))\n",
        "plt.scatter(y_test_actual, y_pred, alpha=0.6, color='blue')\n",
        "plt.plot([y_test_actual.min(), y_test_actual.max()],\n",
        "         [y_test_actual.min(), y_test_actual.max()], 'r--')\n",
        "plt.xlabel(f'Actual {TARGET_VARIABLE}')\n",
        "plt.ylabel(f'Predicted {TARGET_VARIABLE}')\n",
        "plt.title(f'Actual vs Predicted {TARGET_VARIABLE}')\n",
        "plt.savefig(os.path.join(RESULTS_PATH, 'actual_vs_predicted.png'))\n",
        "plt.show()\n",
        "print(f\"Visualization saved to {os.path.join(RESULTS_PATH, 'actual_vs_predicted.png')}\")\n",
        "\n",
        "# Save the trained model\n",
        "model_output_path = os.path.join(MODEL_PATH, 'best_model.pkl')\n",
        "joblib.dump(best_model, model_output_path)\n",
        "print(f\"Trained model saved to {model_output_path}\")"
      ],
      "metadata": {
        "colab": {
          "base_uri": "https://localhost:8080/",
          "height": 599
        },
        "id": "2Xd4yqs2k3oo",
        "outputId": "9d05d672-2a12-4465-a420-050dc2aebde5"
      },
      "execution_count": null,
      "outputs": [
        {
          "output_type": "display_data",
          "data": {
            "text/plain": [
              "<Figure size 800x600 with 1 Axes>"
            ],
            "image/png": "[encoded data removed]"
          },
          "metadata": {}
        },
        {
          "output_type": "stream",
          "name": "stdout",
          "text": [
            "Visualization saved to results/actual_vs_predicted.png\n",
            "Trained model saved to saved_models/best_model.pkl\n"
          ]
        }
      ]
    },
    {
      "cell_type": "markdown",
      "source": [
        "# 4. Conclusion\n",
        "<a id=\"Conclusion\"></a>"
      ],
      "metadata": {
        "id": "dsgu8HVtDzga"
      }
    },
    {
      "cell_type": "markdown",
      "source": [
        "In this notebook, we explored the end-to-end process of training regression models, from setting up prerequisites to running models interactively using the Gradio interface. We demonstrated how to:\n",
        "\n",
        "- **Execute models** with default and customized parameters for quick experimentation.\n",
        "- **Download datasets** programmatically or use local files.\n",
        "- **Preprocess data** effectively for model readiness.\n",
        "- **Tune hyperparameters** to optimize performance.\n",
        "- **Train models** while saving metrics and generating visualizations for analysis.\n",
        "\n",
        "By combining theoretical knowledge with practical implementation, this notebook serves as a foundation for building and experimenting with machine learning models. Whether you're a beginner exploring algorithms or an experienced practitioner fine-tuning models, this resource equips you with the tools and insights to excel in your projects.\n",
        "\n",
        "Feel free to adapt and expand on these workflows to suit your specific needs. Thank you for using this guide!"
      ],
      "metadata": {
        "id": "DdK3Z6FqVdUl"
      }
    }
  ]
}